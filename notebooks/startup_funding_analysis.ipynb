{
 "cells": [
  {
   "cell_type": "markdown",
   "id": "95157550-f422-4c36-a10a-e79a13313ad4",
   "metadata": {},
   "source": [
    "# Цель проекта"
   ]
  },
  {
   "cell_type": "markdown",
   "id": "66af5cb2-9743-402c-8dc5-9aad40c9009f",
   "metadata": {},
   "source": [
    "Цель проекта — подготовить, очистить и исследовать данные о стартапах, чтобы помочь финансовой компании оценить перспективы выхода на рынок инвестиций путём покупки, развития и последующей перепродажи стартапов. В рамках проекта необходимо:\n",
    "объединить данные из разных таблиц на основе логичных ключей;\n",
    "проверить корректность и надёжность информации, особенно по персоналу и образовательному уровню;\n",
    "интерпретировать аномальные значения (например, сделки на $0 или $1);\n",
    "проанализировать стоимость стартапов в зависимости от категории и количества инвестиционных раундов;\n",
    "вычислить ключевые численные показатели и их динамику;\n",
    "идентифицировать потенциальные признаки успешных сделок."
   ]
  },
  {
   "cell_type": "markdown",
   "id": "a135ef2d-b373-4897-bf91-e3e54d7c4ed4",
   "metadata": {},
   "source": [
    "# Описание данных"
   ]
  },
  {
   "cell_type": "markdown",
   "id": "030067fe-fca7-4f44-8194-53f184fa90eb",
   "metadata": {},
   "source": [
    "Таблица acquisition cодержит информацию о покупках одними компаниями других компаний: id — идентификатор покупки, acquiring_company_id — идентификатор покупающей компании, acquired_company_id — идентификатор покупаемой компании, term_code — варианты расчёта, price_amount — сумма сделки, acquired_at — дата сделки.\n",
    "\n",
    "Таблица company_and_rounds cодержит информацию о компаниях и раундах финансирования:\n",
    "company ID — идентификатор компании, name — название компании, category code — категория области деятельности компании, status — статус компании, founded at — дата инвестирования, closed at — дата закрытия компании, domain — официальный сайт компании, network username — ник компании в сети,\n",
    "country code — код страны компании, investment rounds — число инвестиционных раундов, funding rounds — число раундов финансирования, funding total — сумма финансирования, milestones — вехи финансирования, funding round id — идентификатор этапа финансирования, company id — идентификатор компании,\n",
    "funded at — дата финансирования, funding round type — тип финансирования, raised amount — сумма финансирования, pre money valuation — предварительная денежная оценка, participants — число участников, is first round — является ли раунд первым, is last round — является раунд последним.\n",
    "\n",
    "Таблица education cодержит информацию об образовании сотрудника:\n",
    "id — идентификатор записи об образовании, person_id — идентификатор работника, instituition — название учебного заведения, graduated_at — дата получения образования.\n",
    "\n",
    "Таблица people cодержит информацию о сотрудниках:\n",
    "id — идентификатор сотрудника, first_name — имя сотрудника, last_name — фамилия сотрудника, company_id — идентификатор компании, network_username — ник в социальных сетях.\n",
    "\n",
    "Таблица degrees cодержит информацию о типе образования сотрудника:\n",
    "id — идентификатор записи, object_id — идентификатор сотрудника, degree_type — тип образования, subject — специальность."
   ]
  },
  {
   "cell_type": "code",
   "execution_count": 1,
   "id": "8eebd727-966e-4660-8471-9bd0d74f35e0",
   "metadata": {},
   "outputs": [],
   "source": [
    "import pandas as pd\n",
    "import matplotlib.pyplot as plt\n",
    "import seaborn as sns\n",
    "import numpy as np"
   ]
  },
  {
   "cell_type": "code",
   "execution_count": 2,
   "id": "8fab250d-4915-46c6-803c-359bf63ca3b4",
   "metadata": {},
   "outputs": [],
   "source": [
    "try:\n",
    "    df_acquisition = pd.read_csv('acquisition.csv')\n",
    "except FileNotFoundError:\n",
    "    df_acquisition = pd.read_csv('https://code.s3.yandex.net/datasets/acquisition.csv')\n",
    "\n",
    "try:\n",
    "    df_company_and_rounds = pd.read_csv('company_and_rounds.csv')\n",
    "except FileNotFoundError:\n",
    "    df_company_and_rounds = pd.read_csv('https://code.s3.yandex.net/datasets/company_and_rounds.csv')\n",
    "\n",
    "try:\n",
    "    df_people = pd.read_csv('people.csv')\n",
    "except FileNotFoundError:\n",
    "    df_people = pd.read_csv('https://code.s3.yandex.net/datasets/people.csv')\n",
    "\n",
    "try:\n",
    "    df_degrees = pd.read_csv('degrees.csv')\n",
    "except FileNotFoundError:\n",
    "    df_degrees = pd.read_csv('https://code.s3.yandex.net/datasets/degrees.csv')\n",
    "\n",
    "try:\n",
    "    df_education = pd.read_csv('education.csv')\n",
    "except FileNotFoundError:\n",
    "    df_education = pd.read_csv('https://code.s3.yandex.net/datasets/education.csv')\n"
   ]
  },
  {
   "cell_type": "markdown",
   "id": "0e5e4bf6-dc3f-4a89-8646-3d4b44d2cb0a",
   "metadata": {},
   "source": [
    "## Знакомство с данными: загрузка и первичная предобработка"
   ]
  },
  {
   "cell_type": "markdown",
   "id": "e4ca9d84-feb4-42d8-9b24-49dbda129c75",
   "metadata": {},
   "source": [
    "Загрузим необходимые библиотеки для анализа данных и данные из датасетов. Затем выведем основную информацию о данных с помощью метода info() и первые строки датафреймов."
   ]
  },
  {
   "cell_type": "code",
   "execution_count": 3,
   "id": "1525b0b0-77a0-4208-a5c3-5f67a5eddc1e",
   "metadata": {},
   "outputs": [
    {
     "data": {
      "text/html": [
       "<div>\n",
       "<style scoped>\n",
       "    .dataframe tbody tr th:only-of-type {\n",
       "        vertical-align: middle;\n",
       "    }\n",
       "\n",
       "    .dataframe tbody tr th {\n",
       "        vertical-align: top;\n",
       "    }\n",
       "\n",
       "    .dataframe thead th {\n",
       "        text-align: right;\n",
       "    }\n",
       "</style>\n",
       "<table border=\"1\" class=\"dataframe\">\n",
       "  <thead>\n",
       "    <tr style=\"text-align: right;\">\n",
       "      <th></th>\n",
       "      <th>id</th>\n",
       "      <th>acquiring_company_id</th>\n",
       "      <th>acquired_company_id</th>\n",
       "      <th>term_code</th>\n",
       "      <th>price_amount</th>\n",
       "      <th>acquired_at</th>\n",
       "    </tr>\n",
       "  </thead>\n",
       "  <tbody>\n",
       "    <tr>\n",
       "      <th>0</th>\n",
       "      <td>1</td>\n",
       "      <td>11</td>\n",
       "      <td>10</td>\n",
       "      <td>NaN</td>\n",
       "      <td>20000000</td>\n",
       "      <td>2007-05-30</td>\n",
       "    </tr>\n",
       "    <tr>\n",
       "      <th>1</th>\n",
       "      <td>7</td>\n",
       "      <td>59</td>\n",
       "      <td>72</td>\n",
       "      <td>cash</td>\n",
       "      <td>60000000</td>\n",
       "      <td>2007-07-01</td>\n",
       "    </tr>\n",
       "    <tr>\n",
       "      <th>2</th>\n",
       "      <td>8</td>\n",
       "      <td>24</td>\n",
       "      <td>132</td>\n",
       "      <td>cash</td>\n",
       "      <td>280000000</td>\n",
       "      <td>2007-05-01</td>\n",
       "    </tr>\n",
       "    <tr>\n",
       "      <th>3</th>\n",
       "      <td>9</td>\n",
       "      <td>59</td>\n",
       "      <td>155</td>\n",
       "      <td>cash</td>\n",
       "      <td>100000000</td>\n",
       "      <td>2007-06-01</td>\n",
       "    </tr>\n",
       "    <tr>\n",
       "      <th>4</th>\n",
       "      <td>10</td>\n",
       "      <td>212</td>\n",
       "      <td>215</td>\n",
       "      <td>cash</td>\n",
       "      <td>25000000</td>\n",
       "      <td>2007-07-01</td>\n",
       "    </tr>\n",
       "  </tbody>\n",
       "</table>\n",
       "</div>"
      ],
      "text/plain": [
       "   id  acquiring_company_id  acquired_company_id term_code  price_amount  \\\n",
       "0   1                    11                   10       NaN      20000000   \n",
       "1   7                    59                   72      cash      60000000   \n",
       "2   8                    24                  132      cash     280000000   \n",
       "3   9                    59                  155      cash     100000000   \n",
       "4  10                   212                  215      cash      25000000   \n",
       "\n",
       "  acquired_at  \n",
       "0  2007-05-30  \n",
       "1  2007-07-01  \n",
       "2  2007-05-01  \n",
       "3  2007-06-01  \n",
       "4  2007-07-01  "
      ]
     },
     "execution_count": 3,
     "metadata": {},
     "output_type": "execute_result"
    }
   ],
   "source": [
    "df_acquisition.head()"
   ]
  },
  {
   "cell_type": "code",
   "execution_count": 4,
   "id": "5042588c-89ac-4a96-a939-98c6c9a7bf34",
   "metadata": {},
   "outputs": [
    {
     "name": "stdout",
     "output_type": "stream",
     "text": [
      "<class 'pandas.core.frame.DataFrame'>\n",
      "RangeIndex: 9407 entries, 0 to 9406\n",
      "Data columns (total 6 columns):\n",
      " #   Column                Non-Null Count  Dtype \n",
      "---  ------                --------------  ----- \n",
      " 0   id                    9407 non-null   int64 \n",
      " 1   acquiring_company_id  9407 non-null   int64 \n",
      " 2   acquired_company_id   9407 non-null   int64 \n",
      " 3   term_code             1831 non-null   object\n",
      " 4   price_amount          9407 non-null   int64 \n",
      " 5   acquired_at           9378 non-null   object\n",
      "dtypes: int64(4), object(2)\n",
      "memory usage: 441.1+ KB\n"
     ]
    }
   ],
   "source": [
    "df_acquisition.info()"
   ]
  },
  {
   "cell_type": "markdown",
   "id": "147504a0-b60e-4d0d-b44d-6c957ec54dc3",
   "metadata": {},
   "source": [
    "В таблице находится 6 столбцов и 9407 строк. Данные хранятся в двух типах данных - int64, object. В столбцах price_amount, term_code, acquired_at имеются пропуски. Название столбцов корректно и не требует доработки. "
   ]
  },
  {
   "cell_type": "code",
   "execution_count": 5,
   "id": "859d85d1-10a6-41a2-affa-f2db224790ca",
   "metadata": {},
   "outputs": [
    {
     "data": {
      "text/html": [
       "<div>\n",
       "<style scoped>\n",
       "    .dataframe tbody tr th:only-of-type {\n",
       "        vertical-align: middle;\n",
       "    }\n",
       "\n",
       "    .dataframe tbody tr th {\n",
       "        vertical-align: top;\n",
       "    }\n",
       "\n",
       "    .dataframe thead th {\n",
       "        text-align: right;\n",
       "    }\n",
       "</style>\n",
       "<table border=\"1\" class=\"dataframe\">\n",
       "  <thead>\n",
       "    <tr style=\"text-align: right;\">\n",
       "      <th></th>\n",
       "      <th>company  ID</th>\n",
       "      <th>name</th>\n",
       "      <th>category  code</th>\n",
       "      <th>status</th>\n",
       "      <th>founded  at</th>\n",
       "      <th>closed  at</th>\n",
       "      <th>domain</th>\n",
       "      <th>network  username</th>\n",
       "      <th>country  code</th>\n",
       "      <th>investment  rounds</th>\n",
       "      <th>...</th>\n",
       "      <th>milestones</th>\n",
       "      <th>funding  round  id</th>\n",
       "      <th>company  id</th>\n",
       "      <th>funded  at</th>\n",
       "      <th>funding  round  type</th>\n",
       "      <th>raised  amount</th>\n",
       "      <th>pre  money  valuation</th>\n",
       "      <th>participants</th>\n",
       "      <th>is  first  round</th>\n",
       "      <th>is  last  round</th>\n",
       "    </tr>\n",
       "  </thead>\n",
       "  <tbody>\n",
       "    <tr>\n",
       "      <th>0</th>\n",
       "      <td>1.0</td>\n",
       "      <td>Wetpaint</td>\n",
       "      <td>web</td>\n",
       "      <td>operating</td>\n",
       "      <td>2005-10-17</td>\n",
       "      <td>NaN</td>\n",
       "      <td>wetpaint-inc.com</td>\n",
       "      <td>BachelrWetpaint</td>\n",
       "      <td>USA</td>\n",
       "      <td>0.0</td>\n",
       "      <td>...</td>\n",
       "      <td>5.0</td>\n",
       "      <td>888.0</td>\n",
       "      <td>1.0</td>\n",
       "      <td>2005-10-01</td>\n",
       "      <td>series-a</td>\n",
       "      <td>5250000.0</td>\n",
       "      <td>0.0</td>\n",
       "      <td>2.0</td>\n",
       "      <td>0.0</td>\n",
       "      <td>1.0</td>\n",
       "    </tr>\n",
       "    <tr>\n",
       "      <th>1</th>\n",
       "      <td>1.0</td>\n",
       "      <td>Wetpaint</td>\n",
       "      <td>web</td>\n",
       "      <td>operating</td>\n",
       "      <td>2005-10-17</td>\n",
       "      <td>NaN</td>\n",
       "      <td>wetpaint-inc.com</td>\n",
       "      <td>BachelrWetpaint</td>\n",
       "      <td>USA</td>\n",
       "      <td>0.0</td>\n",
       "      <td>...</td>\n",
       "      <td>5.0</td>\n",
       "      <td>889.0</td>\n",
       "      <td>1.0</td>\n",
       "      <td>2007-01-01</td>\n",
       "      <td>series-b</td>\n",
       "      <td>9500000.0</td>\n",
       "      <td>0.0</td>\n",
       "      <td>3.0</td>\n",
       "      <td>0.0</td>\n",
       "      <td>0.0</td>\n",
       "    </tr>\n",
       "    <tr>\n",
       "      <th>2</th>\n",
       "      <td>1.0</td>\n",
       "      <td>Wetpaint</td>\n",
       "      <td>web</td>\n",
       "      <td>operating</td>\n",
       "      <td>2005-10-17</td>\n",
       "      <td>NaN</td>\n",
       "      <td>wetpaint-inc.com</td>\n",
       "      <td>BachelrWetpaint</td>\n",
       "      <td>USA</td>\n",
       "      <td>0.0</td>\n",
       "      <td>...</td>\n",
       "      <td>5.0</td>\n",
       "      <td>2312.0</td>\n",
       "      <td>1.0</td>\n",
       "      <td>2008-05-19</td>\n",
       "      <td>series-c+</td>\n",
       "      <td>25000000.0</td>\n",
       "      <td>0.0</td>\n",
       "      <td>4.0</td>\n",
       "      <td>1.0</td>\n",
       "      <td>0.0</td>\n",
       "    </tr>\n",
       "    <tr>\n",
       "      <th>3</th>\n",
       "      <td>10.0</td>\n",
       "      <td>Flektor</td>\n",
       "      <td>games_video</td>\n",
       "      <td>acquired</td>\n",
       "      <td>NaN</td>\n",
       "      <td>NaN</td>\n",
       "      <td>flektor.com</td>\n",
       "      <td>NaN</td>\n",
       "      <td>USA</td>\n",
       "      <td>0.0</td>\n",
       "      <td>...</td>\n",
       "      <td>0.0</td>\n",
       "      <td>NaN</td>\n",
       "      <td>NaN</td>\n",
       "      <td>NaN</td>\n",
       "      <td>NaN</td>\n",
       "      <td>NaN</td>\n",
       "      <td>NaN</td>\n",
       "      <td>NaN</td>\n",
       "      <td>NaN</td>\n",
       "      <td>NaN</td>\n",
       "    </tr>\n",
       "    <tr>\n",
       "      <th>4</th>\n",
       "      <td>100.0</td>\n",
       "      <td>There</td>\n",
       "      <td>games_video</td>\n",
       "      <td>acquired</td>\n",
       "      <td>NaN</td>\n",
       "      <td>NaN</td>\n",
       "      <td>there.com</td>\n",
       "      <td>NaN</td>\n",
       "      <td>USA</td>\n",
       "      <td>0.0</td>\n",
       "      <td>...</td>\n",
       "      <td>4.0</td>\n",
       "      <td>NaN</td>\n",
       "      <td>NaN</td>\n",
       "      <td>NaN</td>\n",
       "      <td>NaN</td>\n",
       "      <td>NaN</td>\n",
       "      <td>NaN</td>\n",
       "      <td>NaN</td>\n",
       "      <td>NaN</td>\n",
       "      <td>NaN</td>\n",
       "    </tr>\n",
       "  </tbody>\n",
       "</table>\n",
       "<p>5 rows × 22 columns</p>\n",
       "</div>"
      ],
      "text/plain": [
       "   company  ID      name category  code     status founded  at closed  at  \\\n",
       "0          1.0  Wetpaint            web  operating  2005-10-17        NaN   \n",
       "1          1.0  Wetpaint            web  operating  2005-10-17        NaN   \n",
       "2          1.0  Wetpaint            web  operating  2005-10-17        NaN   \n",
       "3         10.0   Flektor    games_video   acquired         NaN        NaN   \n",
       "4        100.0     There    games_video   acquired         NaN        NaN   \n",
       "\n",
       "             domain network  username country  code  investment  rounds  ...  \\\n",
       "0  wetpaint-inc.com   BachelrWetpaint           USA                 0.0  ...   \n",
       "1  wetpaint-inc.com   BachelrWetpaint           USA                 0.0  ...   \n",
       "2  wetpaint-inc.com   BachelrWetpaint           USA                 0.0  ...   \n",
       "3       flektor.com               NaN           USA                 0.0  ...   \n",
       "4         there.com               NaN           USA                 0.0  ...   \n",
       "\n",
       "   milestones  funding  round  id  company  id  funded  at  \\\n",
       "0         5.0               888.0          1.0  2005-10-01   \n",
       "1         5.0               889.0          1.0  2007-01-01   \n",
       "2         5.0              2312.0          1.0  2008-05-19   \n",
       "3         0.0                 NaN          NaN         NaN   \n",
       "4         4.0                 NaN          NaN         NaN   \n",
       "\n",
       "   funding  round  type raised  amount pre  money  valuation  participants  \\\n",
       "0              series-a      5250000.0                   0.0           2.0   \n",
       "1              series-b      9500000.0                   0.0           3.0   \n",
       "2             series-c+     25000000.0                   0.0           4.0   \n",
       "3                   NaN            NaN                   NaN           NaN   \n",
       "4                   NaN            NaN                   NaN           NaN   \n",
       "\n",
       "   is  first  round  is  last  round  \n",
       "0               0.0              1.0  \n",
       "1               0.0              0.0  \n",
       "2               1.0              0.0  \n",
       "3               NaN              NaN  \n",
       "4               NaN              NaN  \n",
       "\n",
       "[5 rows x 22 columns]"
      ]
     },
     "execution_count": 5,
     "metadata": {},
     "output_type": "execute_result"
    }
   ],
   "source": [
    "df_company_and_rounds.head()"
   ]
  },
  {
   "cell_type": "code",
   "execution_count": 6,
   "id": "3b7d3678-52b1-4610-a86d-41a2333c2b74",
   "metadata": {},
   "outputs": [
    {
     "data": {
      "text/plain": [
       "Index(['company  ID', 'name', 'category  code', 'status', 'founded  at',\n",
       "       'closed  at', 'domain', 'network  username', 'country  code',\n",
       "       'investment  rounds', 'funding  rounds', 'funding  total', 'milestones',\n",
       "       'funding  round  id', 'company  id', 'funded  at',\n",
       "       'funding  round  type', 'raised  amount', 'pre  money  valuation',\n",
       "       'participants', 'is  first  round', 'is  last  round'],\n",
       "      dtype='object')"
      ]
     },
     "execution_count": 6,
     "metadata": {},
     "output_type": "execute_result"
    }
   ],
   "source": [
    "df_company_and_rounds.columns"
   ]
  },
  {
   "cell_type": "markdown",
   "id": "ee83bde1-f01c-4599-af08-0f3457cfb962",
   "metadata": {},
   "source": [
    "Названия столбцов не стандартизированы - многие названия содержат пробелы и неоднородное форматирование (company ID, category code, pre money valuation). Необходимо приведение к нижнему регистру и к формату snake_case. "
   ]
  },
  {
   "cell_type": "code",
   "execution_count": 7,
   "id": "a28ccc22-1354-4f14-b070-75d48015a096",
   "metadata": {},
   "outputs": [],
   "source": [
    "def col_to_snake_case(df):\n",
    "    new_columns = {}\n",
    "    for col in df.columns:\n",
    "        col_new = col.strip().lower().replace('  ', ' ').replace(' ', '_')\n",
    "        new_columns[col] = col_new\n",
    "    return df.rename(columns=new_columns)\n",
    "\n",
    "df_company_and_rounds = col_to_snake_case(df_company_and_rounds)"
   ]
  },
  {
   "cell_type": "code",
   "execution_count": 8,
   "id": "573993e8-5377-4f0c-beb8-8ffb70c3eab3",
   "metadata": {},
   "outputs": [
    {
     "name": "stdout",
     "output_type": "stream",
     "text": [
      "<class 'pandas.core.frame.DataFrame'>\n",
      "RangeIndex: 217774 entries, 0 to 217773\n",
      "Data columns (total 22 columns):\n",
      " #   Column               Non-Null Count   Dtype  \n",
      "---  ------               --------------   -----  \n",
      " 0   company_id           217472 non-null  float64\n",
      " 1   name                 217472 non-null  object \n",
      " 2   category_code        143886 non-null  object \n",
      " 3   status               217472 non-null  object \n",
      " 4   founded_at           109956 non-null  object \n",
      " 5   closed_at            3449 non-null    object \n",
      " 6   domain               147159 non-null  object \n",
      " 7   network_username     95534 non-null   object \n",
      " 8   country_code         108607 non-null  object \n",
      " 9   investment_rounds    217472 non-null  float64\n",
      " 10  funding_rounds       217472 non-null  float64\n",
      " 11  funding_total        217472 non-null  float64\n",
      " 12  milestones           217472 non-null  float64\n",
      " 13  funding_round_id     52928 non-null   float64\n",
      " 14  company_id           52928 non-null   float64\n",
      " 15  funded_at            52680 non-null   object \n",
      " 16  funding_round_type   52928 non-null   object \n",
      " 17  raised_amount        52928 non-null   float64\n",
      " 18  pre_money_valuation  52928 non-null   float64\n",
      " 19  participants         52928 non-null   float64\n",
      " 20  is_first_round       52928 non-null   float64\n",
      " 21  is_last_round        52928 non-null   float64\n",
      "dtypes: float64(12), object(10)\n",
      "memory usage: 36.6+ MB\n"
     ]
    }
   ],
   "source": [
    "df_company_and_rounds.info()"
   ]
  },
  {
   "cell_type": "markdown",
   "id": "6d62833a-1476-4f1b-b2ee-b36dd543cb55",
   "metadata": {},
   "source": [
    "В таблице находится 22 столбца и 217774 строки. Данные хранятся в двух типах данных - float64, object. В данных большое количество пропусков, в некоторых столбцах больше 50%"
   ]
  },
  {
   "cell_type": "code",
   "execution_count": 9,
   "id": "d02d17df-cc2c-41e6-9c5e-2ea533af9227",
   "metadata": {},
   "outputs": [
    {
     "data": {
      "text/html": [
       "<div>\n",
       "<style scoped>\n",
       "    .dataframe tbody tr th:only-of-type {\n",
       "        vertical-align: middle;\n",
       "    }\n",
       "\n",
       "    .dataframe tbody tr th {\n",
       "        vertical-align: top;\n",
       "    }\n",
       "\n",
       "    .dataframe thead th {\n",
       "        text-align: right;\n",
       "    }\n",
       "</style>\n",
       "<table border=\"1\" class=\"dataframe\">\n",
       "  <thead>\n",
       "    <tr style=\"text-align: right;\">\n",
       "      <th></th>\n",
       "      <th>id</th>\n",
       "      <th>first_name</th>\n",
       "      <th>last_name</th>\n",
       "      <th>company_id</th>\n",
       "      <th>network_username</th>\n",
       "    </tr>\n",
       "  </thead>\n",
       "  <tbody>\n",
       "    <tr>\n",
       "      <th>0</th>\n",
       "      <td>10</td>\n",
       "      <td>Mark</td>\n",
       "      <td>Zuckerberg</td>\n",
       "      <td>5.0</td>\n",
       "      <td>NaN</td>\n",
       "    </tr>\n",
       "    <tr>\n",
       "      <th>1</th>\n",
       "      <td>100</td>\n",
       "      <td>Peter</td>\n",
       "      <td>Lester</td>\n",
       "      <td>27.0</td>\n",
       "      <td>NaN</td>\n",
       "    </tr>\n",
       "    <tr>\n",
       "      <th>2</th>\n",
       "      <td>1000</td>\n",
       "      <td>Dr. Steven</td>\n",
       "      <td>E. Saunders</td>\n",
       "      <td>292.0</td>\n",
       "      <td>NaN</td>\n",
       "    </tr>\n",
       "    <tr>\n",
       "      <th>3</th>\n",
       "      <td>10000</td>\n",
       "      <td>Neil</td>\n",
       "      <td>Capel</td>\n",
       "      <td>2526.0</td>\n",
       "      <td>NaN</td>\n",
       "    </tr>\n",
       "    <tr>\n",
       "      <th>4</th>\n",
       "      <td>100000</td>\n",
       "      <td>Sue</td>\n",
       "      <td>Pilsch</td>\n",
       "      <td>NaN</td>\n",
       "      <td>NaN</td>\n",
       "    </tr>\n",
       "  </tbody>\n",
       "</table>\n",
       "</div>"
      ],
      "text/plain": [
       "       id  first_name    last_name  company_id network_username\n",
       "0      10        Mark   Zuckerberg         5.0              NaN\n",
       "1     100       Peter       Lester        27.0              NaN\n",
       "2    1000  Dr. Steven  E. Saunders       292.0              NaN\n",
       "3   10000        Neil        Capel      2526.0              NaN\n",
       "4  100000         Sue       Pilsch         NaN              NaN"
      ]
     },
     "execution_count": 9,
     "metadata": {},
     "output_type": "execute_result"
    }
   ],
   "source": [
    "df_people.head()"
   ]
  },
  {
   "cell_type": "code",
   "execution_count": 10,
   "id": "127f4113-98d5-4a37-82a8-ff9d82d22447",
   "metadata": {},
   "outputs": [
    {
     "name": "stdout",
     "output_type": "stream",
     "text": [
      "<class 'pandas.core.frame.DataFrame'>\n",
      "RangeIndex: 226709 entries, 0 to 226708\n",
      "Data columns (total 5 columns):\n",
      " #   Column            Non-Null Count   Dtype  \n",
      "---  ------            --------------   -----  \n",
      " 0   id                226709 non-null  int64  \n",
      " 1   first_name        226704 non-null  object \n",
      " 2   last_name         226708 non-null  object \n",
      " 3   company_id        34615 non-null   float64\n",
      " 4   network_username  38867 non-null   object \n",
      "dtypes: float64(1), int64(1), object(3)\n",
      "memory usage: 8.6+ MB\n"
     ]
    }
   ],
   "source": [
    "df_people.info()"
   ]
  },
  {
   "cell_type": "markdown",
   "id": "3a0a2e46-8989-4085-8ecc-988a08e63e79",
   "metadata": {},
   "source": [
    "В таблице находится 5 столбцов и 226709 строки. Данные хранятся в трех типах данных - float64, object,int64. Названия столбцов стандартизированы и не требуют доработки. Большое количество пропусков в столбцах company_id и network_username."
   ]
  },
  {
   "cell_type": "code",
   "execution_count": 11,
   "id": "087ff9eb-3a01-4e17-a451-701f47ddb4fa",
   "metadata": {},
   "outputs": [
    {
     "data": {
      "text/html": [
       "<div>\n",
       "<style scoped>\n",
       "    .dataframe tbody tr th:only-of-type {\n",
       "        vertical-align: middle;\n",
       "    }\n",
       "\n",
       "    .dataframe tbody tr th {\n",
       "        vertical-align: top;\n",
       "    }\n",
       "\n",
       "    .dataframe thead th {\n",
       "        text-align: right;\n",
       "    }\n",
       "</style>\n",
       "<table border=\"1\" class=\"dataframe\">\n",
       "  <thead>\n",
       "    <tr style=\"text-align: right;\">\n",
       "      <th></th>\n",
       "      <th>id</th>\n",
       "      <th>object_id</th>\n",
       "      <th>degree_type</th>\n",
       "      <th>subject</th>\n",
       "    </tr>\n",
       "  </thead>\n",
       "  <tbody>\n",
       "    <tr>\n",
       "      <th>0</th>\n",
       "      <td>1</td>\n",
       "      <td>p:6117</td>\n",
       "      <td>MBA</td>\n",
       "      <td>NaN</td>\n",
       "    </tr>\n",
       "    <tr>\n",
       "      <th>1</th>\n",
       "      <td>2</td>\n",
       "      <td>p:6136</td>\n",
       "      <td>BA</td>\n",
       "      <td>English, French</td>\n",
       "    </tr>\n",
       "    <tr>\n",
       "      <th>2</th>\n",
       "      <td>3</td>\n",
       "      <td>p:6136</td>\n",
       "      <td>MS</td>\n",
       "      <td>Mass Communication</td>\n",
       "    </tr>\n",
       "    <tr>\n",
       "      <th>3</th>\n",
       "      <td>4</td>\n",
       "      <td>p:6005</td>\n",
       "      <td>MS</td>\n",
       "      <td>Internet Technology</td>\n",
       "    </tr>\n",
       "    <tr>\n",
       "      <th>4</th>\n",
       "      <td>5</td>\n",
       "      <td>p:5832</td>\n",
       "      <td>BCS</td>\n",
       "      <td>Computer Science, Psychology</td>\n",
       "    </tr>\n",
       "  </tbody>\n",
       "</table>\n",
       "</div>"
      ],
      "text/plain": [
       "   id object_id degree_type                       subject\n",
       "0   1    p:6117         MBA                           NaN\n",
       "1   2    p:6136          BA               English, French\n",
       "2   3    p:6136          MS            Mass Communication\n",
       "3   4    p:6005          MS           Internet Technology\n",
       "4   5    p:5832         BCS  Computer Science, Psychology"
      ]
     },
     "execution_count": 11,
     "metadata": {},
     "output_type": "execute_result"
    }
   ],
   "source": [
    "df_degrees.head()"
   ]
  },
  {
   "cell_type": "code",
   "execution_count": 12,
   "id": "2b2f80de-d8eb-4288-909d-e518b7478b65",
   "metadata": {},
   "outputs": [
    {
     "name": "stdout",
     "output_type": "stream",
     "text": [
      "<class 'pandas.core.frame.DataFrame'>\n",
      "RangeIndex: 109610 entries, 0 to 109609\n",
      "Data columns (total 4 columns):\n",
      " #   Column       Non-Null Count   Dtype \n",
      "---  ------       --------------   ----- \n",
      " 0   id           109610 non-null  int64 \n",
      " 1   object_id    109610 non-null  object\n",
      " 2   degree_type  98392 non-null   object\n",
      " 3   subject      81298 non-null   object\n",
      "dtypes: int64(1), object(3)\n",
      "memory usage: 3.3+ MB\n"
     ]
    }
   ],
   "source": [
    "df_degrees.info()"
   ]
  },
  {
   "cell_type": "markdown",
   "id": "1c8a1bce-1f60-4d5f-b0a1-46c887458813",
   "metadata": {},
   "source": [
    "В таблице находится 4 столбца и 109610 строки. Данные хранятся в двух типах данных - object,int64. Названия столбцов стандартизированы и не требуют доработки. Имеются пропуски"
   ]
  },
  {
   "cell_type": "code",
   "execution_count": 13,
   "id": "28c76341-5a94-4aeb-965c-29680a723745",
   "metadata": {},
   "outputs": [
    {
     "data": {
      "text/html": [
       "<div>\n",
       "<style scoped>\n",
       "    .dataframe tbody tr th:only-of-type {\n",
       "        vertical-align: middle;\n",
       "    }\n",
       "\n",
       "    .dataframe tbody tr th {\n",
       "        vertical-align: top;\n",
       "    }\n",
       "\n",
       "    .dataframe thead th {\n",
       "        text-align: right;\n",
       "    }\n",
       "</style>\n",
       "<table border=\"1\" class=\"dataframe\">\n",
       "  <thead>\n",
       "    <tr style=\"text-align: right;\">\n",
       "      <th></th>\n",
       "      <th>id</th>\n",
       "      <th>person_id</th>\n",
       "      <th>instituition</th>\n",
       "      <th>graduated_at</th>\n",
       "    </tr>\n",
       "  </thead>\n",
       "  <tbody>\n",
       "    <tr>\n",
       "      <th>0</th>\n",
       "      <td>1</td>\n",
       "      <td>6117</td>\n",
       "      <td>NaN</td>\n",
       "      <td>NaN</td>\n",
       "    </tr>\n",
       "    <tr>\n",
       "      <th>1</th>\n",
       "      <td>2</td>\n",
       "      <td>6136</td>\n",
       "      <td>Washington University, St. Louis</td>\n",
       "      <td>1990-01-01</td>\n",
       "    </tr>\n",
       "    <tr>\n",
       "      <th>2</th>\n",
       "      <td>3</td>\n",
       "      <td>6136</td>\n",
       "      <td>Boston University</td>\n",
       "      <td>1992-01-01</td>\n",
       "    </tr>\n",
       "    <tr>\n",
       "      <th>3</th>\n",
       "      <td>4</td>\n",
       "      <td>6005</td>\n",
       "      <td>University of Greenwich</td>\n",
       "      <td>2006-01-01</td>\n",
       "    </tr>\n",
       "    <tr>\n",
       "      <th>4</th>\n",
       "      <td>5</td>\n",
       "      <td>5832</td>\n",
       "      <td>Rice University</td>\n",
       "      <td>NaN</td>\n",
       "    </tr>\n",
       "  </tbody>\n",
       "</table>\n",
       "</div>"
      ],
      "text/plain": [
       "   id  person_id                      instituition graduated_at\n",
       "0   1       6117                               NaN          NaN\n",
       "1   2       6136  Washington University, St. Louis   1990-01-01\n",
       "2   3       6136                 Boston University   1992-01-01\n",
       "3   4       6005           University of Greenwich   2006-01-01\n",
       "4   5       5832                   Rice University          NaN"
      ]
     },
     "execution_count": 13,
     "metadata": {},
     "output_type": "execute_result"
    }
   ],
   "source": [
    "df_education.head()"
   ]
  },
  {
   "cell_type": "code",
   "execution_count": 14,
   "id": "b9027b71-b617-4f7a-8960-88312fc1d8f1",
   "metadata": {},
   "outputs": [
    {
     "name": "stdout",
     "output_type": "stream",
     "text": [
      "<class 'pandas.core.frame.DataFrame'>\n",
      "RangeIndex: 109610 entries, 0 to 109609\n",
      "Data columns (total 4 columns):\n",
      " #   Column        Non-Null Count   Dtype \n",
      "---  ------        --------------   ----- \n",
      " 0   id            109610 non-null  int64 \n",
      " 1   person_id     109610 non-null  int64 \n",
      " 2   instituition  109555 non-null  object\n",
      " 3   graduated_at  58054 non-null   object\n",
      "dtypes: int64(2), object(2)\n",
      "memory usage: 3.3+ MB\n"
     ]
    }
   ],
   "source": [
    "df_education.info()"
   ]
  },
  {
   "cell_type": "markdown",
   "id": "f601b5a6-e942-47ec-bcf6-bdfcb331d020",
   "metadata": {},
   "source": [
    "В таблице находится 4 столбца и 109610 строки. Данные хранятся в двух типах данных - object,int64. Названия столбцов указаны корректно"
   ]
  },
  {
   "cell_type": "markdown",
   "id": "058f736c-dcf8-4bd5-8080-907f9555b58f",
   "metadata": {},
   "source": [
    "## Смена типов и анализ пропусков"
   ]
  },
  {
   "cell_type": "code",
   "execution_count": 15,
   "id": "cbc9f4da-a719-454c-9795-3e66d96cb2ae",
   "metadata": {},
   "outputs": [
    {
     "data": {
      "text/plain": [
       "term_code               7576\n",
       "acquired_at               29\n",
       "id                         0\n",
       "acquiring_company_id       0\n",
       "acquired_company_id        0\n",
       "price_amount               0\n",
       "dtype: int64"
      ]
     },
     "execution_count": 15,
     "metadata": {},
     "output_type": "execute_result"
    }
   ],
   "source": [
    "df_acquisition.isna().sum().sort_values(ascending = False)"
   ]
  },
  {
   "cell_type": "code",
   "execution_count": 16,
   "id": "cdb1a244-067b-4189-bf5f-6cc11a3b852f",
   "metadata": {},
   "outputs": [
    {
     "name": "stdout",
     "output_type": "stream",
     "text": [
      "term_code               80.535771\n",
      "acquired_at              0.308281\n",
      "id                       0.000000\n",
      "acquiring_company_id     0.000000\n",
      "acquired_company_id      0.000000\n",
      "price_amount             0.000000\n",
      "dtype: float64\n"
     ]
    }
   ],
   "source": [
    "share_df_acquisition_missing = (df_acquisition.isna().sum()/df_acquisition.shape[0]*100).sort_values(ascending = False)\n",
    "print(share_df_acquisition_missing)"
   ]
  },
  {
   "cell_type": "markdown",
   "id": "1edb1f12-393b-406d-bcf4-870a98c0ed2f",
   "metadata": {},
   "source": [
    "Наибольшее количество пропусков — в столбце term_code: 80.5%. Это критично.\n",
    "В acquired_at пропущено совсем немного — 0.31%. Остальные столбцы (id, acquiring_company_id, acquired_company_id, price_amount) полностью заполнены."
   ]
  },
  {
   "cell_type": "code",
   "execution_count": 17,
   "id": "2f81be26-c16a-4d01-9ffe-2a38b1c9a48c",
   "metadata": {},
   "outputs": [],
   "source": [
    "df_acquisition['acquired_at'] = pd.to_datetime(df_acquisition['acquired_at'], errors = 'coerce')"
   ]
  },
  {
   "cell_type": "code",
   "execution_count": 18,
   "id": "12b1d82a-1ac8-4162-a2eb-dfc06e004be6",
   "metadata": {},
   "outputs": [
    {
     "name": "stdout",
     "output_type": "stream",
     "text": [
      "<class 'pandas.core.frame.DataFrame'>\n",
      "RangeIndex: 9407 entries, 0 to 9406\n",
      "Data columns (total 6 columns):\n",
      " #   Column                Non-Null Count  Dtype         \n",
      "---  ------                --------------  -----         \n",
      " 0   id                    9407 non-null   int64         \n",
      " 1   acquiring_company_id  9407 non-null   int64         \n",
      " 2   acquired_company_id   9407 non-null   int64         \n",
      " 3   term_code             1831 non-null   object        \n",
      " 4   price_amount          9407 non-null   int64         \n",
      " 5   acquired_at           9378 non-null   datetime64[ns]\n",
      "dtypes: datetime64[ns](1), int64(4), object(1)\n",
      "memory usage: 441.1+ KB\n"
     ]
    }
   ],
   "source": [
    "df_acquisition.info()"
   ]
  },
  {
   "cell_type": "markdown",
   "id": "df0e53af-cb00-41d0-bd13-a7ce482ba7e2",
   "metadata": {},
   "source": [
    "Изменили тип данных на соответствующий дате. Теперь весь столбец имеет тип данных, удобный для работы с датами, например, для сортировки, фильтрации, вычислений и визуализации."
   ]
  },
  {
   "cell_type": "code",
   "execution_count": 19,
   "id": "2d14548b-1e0a-416b-ac72-b1a956c8b132",
   "metadata": {},
   "outputs": [
    {
     "data": {
      "text/plain": [
       "closed_at              214325\n",
       "funded_at              165094\n",
       "is_last_round          164846\n",
       "is_first_round         164846\n",
       "participants           164846\n",
       "pre_money_valuation    164846\n",
       "raised_amount          164846\n",
       "funding_round_type     164846\n",
       "funding_round_id       164846\n",
       "company_id             164846\n",
       "network_username       122240\n",
       "country_code           109167\n",
       "founded_at             107818\n",
       "category_code           73888\n",
       "domain                  70615\n",
       "company_id                302\n",
       "milestones                302\n",
       "name                      302\n",
       "funding_rounds            302\n",
       "investment_rounds         302\n",
       "status                    302\n",
       "funding_total             302\n",
       "dtype: int64"
      ]
     },
     "execution_count": 19,
     "metadata": {},
     "output_type": "execute_result"
    }
   ],
   "source": [
    "df_company_and_rounds.isna().sum().sort_values(ascending = False)"
   ]
  },
  {
   "cell_type": "code",
   "execution_count": 20,
   "id": "c597ee2d-607c-429e-8535-b5f6bf68aa8c",
   "metadata": {},
   "outputs": [
    {
     "name": "stdout",
     "output_type": "stream",
     "text": [
      "closed_at              98.416248\n",
      "funded_at              75.809784\n",
      "is_last_round          75.695905\n",
      "is_first_round         75.695905\n",
      "participants           75.695905\n",
      "pre_money_valuation    75.695905\n",
      "raised_amount          75.695905\n",
      "funding_round_type     75.695905\n",
      "funding_round_id       75.695905\n",
      "company_id             75.695905\n",
      "network_username       56.131586\n",
      "country_code           50.128574\n",
      "founded_at             49.509124\n",
      "category_code          33.928752\n",
      "domain                 32.425818\n",
      "company_id              0.138676\n",
      "milestones              0.138676\n",
      "name                    0.138676\n",
      "funding_rounds          0.138676\n",
      "investment_rounds       0.138676\n",
      "status                  0.138676\n",
      "funding_total           0.138676\n",
      "dtype: float64\n"
     ]
    }
   ],
   "source": [
    "share_df_company_and_rounds = (df_company_and_rounds.isna().sum()/df_company_and_rounds.shape[0]*100).sort_values(ascending = False)\n",
    "print(share_df_company_and_rounds)"
   ]
  },
  {
   "cell_type": "markdown",
   "id": "aff6d73a-0c2b-4bdd-afbc-5d3d328f4e5e",
   "metadata": {},
   "source": [
    "Очень много пропусков в столбце closed_at, в котором содержиться информация о закрытии компании. Можно предположить, что закрылись около 2% компаний, остальные продолжают свою работу. 9 столбцов содержит около 75% пропусков. Практически полные данные содержаться в 7 столбцах. "
   ]
  },
  {
   "cell_type": "code",
   "execution_count": 21,
   "id": "19c4d025-c3fb-4992-82db-1846e7ea8b4b",
   "metadata": {},
   "outputs": [],
   "source": [
    "for col in ['founded_at', 'funded_at']:\n",
    "    df_company_and_rounds[col] = pd.to_datetime(df_company_and_rounds[col], errors = 'coerce')"
   ]
  },
  {
   "cell_type": "code",
   "execution_count": 22,
   "id": "085867f5-058d-4bc8-a5b0-01988dcb55fe",
   "metadata": {},
   "outputs": [
    {
     "data": {
      "text/plain": [
       "company_id          192094\n",
       "network_username    187842\n",
       "first_name               5\n",
       "last_name                1\n",
       "id                       0\n",
       "dtype: int64"
      ]
     },
     "execution_count": 22,
     "metadata": {},
     "output_type": "execute_result"
    }
   ],
   "source": [
    "df_people.isna().sum().sort_values(ascending = False)"
   ]
  },
  {
   "cell_type": "code",
   "execution_count": 23,
   "id": "f29515c6-9306-4ff7-9c4e-fb470ad9b413",
   "metadata": {},
   "outputs": [
    {
     "name": "stdout",
     "output_type": "stream",
     "text": [
      "company_id          84.731528\n",
      "network_username    82.855996\n",
      "first_name           0.002205\n",
      "last_name            0.000441\n",
      "id                   0.000000\n",
      "dtype: float64\n"
     ]
    }
   ],
   "source": [
    "share_df_people = (df_people.isna().sum()/df_people.shape[0]*100).sort_values(ascending = False)\n",
    "print(share_df_people)"
   ]
  },
  {
   "cell_type": "markdown",
   "id": "5ec25a4a-db8d-4d35-9b60-c29328b876d1",
   "metadata": {},
   "source": [
    "Много пропусков почти 85% и 83% собержится в столбцах company_id, network_username."
   ]
  },
  {
   "cell_type": "code",
   "execution_count": 24,
   "id": "73b481ab-3067-4e46-93c6-05728def3e3b",
   "metadata": {},
   "outputs": [
    {
     "data": {
      "text/plain": [
       "graduated_at    51556\n",
       "instituition       55\n",
       "id                  0\n",
       "person_id           0\n",
       "dtype: int64"
      ]
     },
     "execution_count": 24,
     "metadata": {},
     "output_type": "execute_result"
    }
   ],
   "source": [
    "df_education.isna().sum().sort_values(ascending = False)"
   ]
  },
  {
   "cell_type": "code",
   "execution_count": 25,
   "id": "877a430f-9fa4-46d9-9892-413e998a238e",
   "metadata": {},
   "outputs": [
    {
     "name": "stdout",
     "output_type": "stream",
     "text": [
      "graduated_at    47.035854\n",
      "instituition     0.050178\n",
      "id               0.000000\n",
      "person_id        0.000000\n",
      "dtype: float64\n"
     ]
    }
   ],
   "source": [
    "share_df_education = (df_education.isna().sum()/df_education.shape[0]*100).sort_values(ascending = False)\n",
    "print(share_df_education)"
   ]
  },
  {
   "cell_type": "markdown",
   "id": "aa8bf16b-d4d8-4af2-8227-1116bb4ed513",
   "metadata": {},
   "source": [
    "Данные почти полные, за исключением столбца graduated_at, в котором пропуски составляют почти 47%"
   ]
  },
  {
   "cell_type": "code",
   "execution_count": 26,
   "id": "b18fb160-549d-4537-99b3-3909618d291d",
   "metadata": {},
   "outputs": [],
   "source": [
    "df_education['graduated_at'] = pd.to_datetime(df_education['graduated_at'], errors = 'coerce')"
   ]
  },
  {
   "cell_type": "code",
   "execution_count": 27,
   "id": "ebf78029-97a2-4541-bc1a-7e9a70ddc2ac",
   "metadata": {},
   "outputs": [
    {
     "data": {
      "text/plain": [
       "subject        28312\n",
       "degree_type    11218\n",
       "id                 0\n",
       "object_id          0\n",
       "dtype: int64"
      ]
     },
     "execution_count": 27,
     "metadata": {},
     "output_type": "execute_result"
    }
   ],
   "source": [
    "df_degrees.isna().sum().sort_values(ascending = False)"
   ]
  },
  {
   "cell_type": "code",
   "execution_count": 28,
   "id": "2dc86ee3-c951-4f13-be02-144b3afa8ab1",
   "metadata": {},
   "outputs": [
    {
     "name": "stdout",
     "output_type": "stream",
     "text": [
      "subject        25.829760\n",
      "degree_type    10.234468\n",
      "id              0.000000\n",
      "object_id       0.000000\n",
      "dtype: float64\n"
     ]
    }
   ],
   "source": [
    "share_df_degrees = (df_degrees.isna().sum()/df_degrees.shape[0]*100).sort_values(ascending = False)\n",
    "print(share_df_degrees)"
   ]
  },
  {
   "cell_type": "markdown",
   "id": "c529ba66-2fcf-4469-b28e-67fb81f77cf5",
   "metadata": {},
   "source": [
    "Пропуски в столбцах subject и degree_type, 25% и 10% соответственно. "
   ]
  },
  {
   "cell_type": "markdown",
   "id": "c435c8b9-a816-4b0a-b691-138bf5e914d4",
   "metadata": {},
   "source": [
    "Несмотря на наличие пропусков, данных достаточно для выполнения большинства аналитических задач проекта. "
   ]
  },
  {
   "cell_type": "markdown",
   "id": "64ab685d-c5ca-4700-94a6-cd3206b02429",
   "metadata": {},
   "source": [
    "## Предобработка данных, предварительное исследование"
   ]
  },
  {
   "cell_type": "code",
   "execution_count": 29,
   "id": "b6d9fcd2-2c1d-4ac2-a77a-20c8ee4de00c",
   "metadata": {},
   "outputs": [
    {
     "name": "stdout",
     "output_type": "stream",
     "text": [
      "      count_funding_rounds  average_raised_amount\n",
      "year                                             \n",
      "1960                     9                      0\n",
      "1973                     1                      0\n",
      "1974                     2                      0\n",
      "1984                     3                 41,000\n",
      "1985                     1                      0\n",
      "1987                     2              1,250,000\n",
      "1989                     1                 15,000\n",
      "1990                     1              1,000,000\n",
      "1992                     1              2,000,000\n",
      "1993                     2                 62,500\n",
      "1994                     2              6,700,000\n",
      "1995                     7              2,000,000\n",
      "1996                     7                 12,500\n",
      "1997                     9              3,300,000\n",
      "1998                    29                100,000\n",
      "1999                    76              2,000,000\n",
      "2000                   125              4,200,000\n",
      "2001                    96              3,000,000\n",
      "2002                   116              4,200,000\n",
      "2003                   159              3,000,000\n",
      "2004                   291              5,000,000\n",
      "2005                  1633              5,500,000\n",
      "2006                  2436              5,000,000\n",
      "2007                  3279              3,973,320\n",
      "2008                  3774              3,110,000\n",
      "2009                  4151              2,000,000\n",
      "2010                  6221              1,602,500\n",
      "2011                  9204              1,200,000\n",
      "2012                  9970              1,000,000\n",
      "2013                 11072              1,200,000\n"
     ]
    }
   ],
   "source": [
    "pd.options.display.float_format = '{:,.0f}'.format\n",
    "df_company_and_rounds['year'] = df_company_and_rounds['funded_at'].dt.year.astype('Int64')\n",
    "pivot_table_funding = pd.pivot_table(\n",
    "    df_company_and_rounds,\n",
    "    index='year',\n",
    "    values='raised_amount',\n",
    "    aggfunc=['count', 'median']\n",
    ")\n",
    "\n",
    "pivot_table_funding.columns = ['count_funding_rounds', 'average_raised_amount']\n",
    "print(pivot_table_funding)"
   ]
  },
  {
   "cell_type": "code",
   "execution_count": 30,
   "id": "641fbf40-b36d-4aad-9272-4ea022b58e0f",
   "metadata": {},
   "outputs": [
    {
     "name": "stdout",
     "output_type": "stream",
     "text": [
      "      count_funding_rounds  average_raised_amount\n",
      "year                                             \n",
      "1999                    76              2,000,000\n",
      "2000                   125              4,200,000\n",
      "2001                    96              3,000,000\n",
      "2002                   116              4,200,000\n",
      "2003                   159              3,000,000\n",
      "2004                   291              5,000,000\n",
      "2005                  1633              5,500,000\n",
      "2006                  2436              5,000,000\n",
      "2007                  3279              3,973,320\n",
      "2008                  3774              3,110,000\n",
      "2009                  4151              2,000,000\n",
      "2010                  6221              1,602,500\n",
      "2011                  9204              1,200,000\n",
      "2012                  9970              1,000,000\n",
      "2013                 11072              1,200,000\n"
     ]
    }
   ],
   "source": [
    "filtered_pivot_table_funding = pivot_table_funding[pivot_table_funding['count_funding_rounds']>50]\n",
    "print(filtered_pivot_table_funding)"
   ]
  },
  {
   "cell_type": "code",
   "execution_count": 31,
   "id": "5f5b5fd7-f1ef-4758-955b-52cb326200bc",
   "metadata": {},
   "outputs": [
    {
     "data": {
      "image/png": "[encoded data removed]",
      "text/plain": [
       "<Figure size 1080x432 with 1 Axes>"
      ]
     },
     "metadata": {
      "needs_background": "light"
     },
     "output_type": "display_data"
    }
   ],
   "source": [
    "filtered_pivot_table_funding['average_raised_amount'].plot(\n",
    "    kind='line',\n",
    "    figsize=(15, 6),\n",
    "    legend=False,\n",
    "    color='#ff7f0e',\n",
    "    title='Динамика типичного размера средств по годам'\n",
    ")\n",
    "\n",
    "plt.ylabel('Средства, млн $')\n",
    "plt.xlabel('Год')\n",
    "plt.grid(True)\n",
    "plt.ticklabel_format(style='plain', axis='y')\n",
    "plt.show()"
   ]
  },
  {
   "cell_type": "markdown",
   "id": "63a6a05d",
   "metadata": {},
   "source": []
  },
  {
   "cell_type": "markdown",
   "id": "5d88527b-7512-48af-9b69-7a303e07d8c5",
   "metadata": {},
   "source": [
    "Максимальный типичный размер средств в одном раунде наблюдался в 2005 году — 5,5 млн долларов. Это пик среди всех лет, представленных в таблице.\n",
    "В 2013 году наблюдается:\n",
    "максимальное число раундов финансирования — 11 072, что говорит о высоком интересе инвесторов к стартапам;\n",
    "типичный размер привлечённых средств — 1,2 млн долларов, что значительно ниже пиковых значений начала 2000-х годов.\n",
    "Это свидетельствует о том, что несмотря на рост количества сделок, средние суммы инвестиций в отдельный раунд стали заметно меньше, что может быть связано с ростом числа стартапов, ранними стадиями финансирования или изменением стратегии инвесторов."
   ]
  },
  {
   "cell_type": "markdown",
   "id": "0ae4edbe",
   "metadata": {},
   "source": [
    "### Люди и их образование"
   ]
  },
  {
   "cell_type": "code",
   "execution_count": 32,
   "id": "bf2522e4-3dc6-4573-ba93-981f7c57c844",
   "metadata": {},
   "outputs": [
    {
     "data": {
      "text/html": [
       "<div>\n",
       "<style scoped>\n",
       "    .dataframe tbody tr th:only-of-type {\n",
       "        vertical-align: middle;\n",
       "    }\n",
       "\n",
       "    .dataframe tbody tr th {\n",
       "        vertical-align: top;\n",
       "    }\n",
       "\n",
       "    .dataframe thead th {\n",
       "        text-align: right;\n",
       "    }\n",
       "</style>\n",
       "<table border=\"1\" class=\"dataframe\">\n",
       "  <thead>\n",
       "    <tr style=\"text-align: right;\">\n",
       "      <th></th>\n",
       "      <th>id</th>\n",
       "      <th>first_name</th>\n",
       "      <th>last_name</th>\n",
       "      <th>company_id</th>\n",
       "      <th>network_username</th>\n",
       "    </tr>\n",
       "  </thead>\n",
       "  <tbody>\n",
       "    <tr>\n",
       "      <th>0</th>\n",
       "      <td>10</td>\n",
       "      <td>Mark</td>\n",
       "      <td>Zuckerberg</td>\n",
       "      <td>5</td>\n",
       "      <td>NaN</td>\n",
       "    </tr>\n",
       "    <tr>\n",
       "      <th>1</th>\n",
       "      <td>100</td>\n",
       "      <td>Peter</td>\n",
       "      <td>Lester</td>\n",
       "      <td>27</td>\n",
       "      <td>NaN</td>\n",
       "    </tr>\n",
       "    <tr>\n",
       "      <th>2</th>\n",
       "      <td>1000</td>\n",
       "      <td>Dr. Steven</td>\n",
       "      <td>E. Saunders</td>\n",
       "      <td>292</td>\n",
       "      <td>NaN</td>\n",
       "    </tr>\n",
       "    <tr>\n",
       "      <th>3</th>\n",
       "      <td>10000</td>\n",
       "      <td>Neil</td>\n",
       "      <td>Capel</td>\n",
       "      <td>2,526</td>\n",
       "      <td>NaN</td>\n",
       "    </tr>\n",
       "    <tr>\n",
       "      <th>4</th>\n",
       "      <td>100000</td>\n",
       "      <td>Sue</td>\n",
       "      <td>Pilsch</td>\n",
       "      <td>NaN</td>\n",
       "      <td>NaN</td>\n",
       "    </tr>\n",
       "    <tr>\n",
       "      <th>5</th>\n",
       "      <td>100002</td>\n",
       "      <td>Keith</td>\n",
       "      <td>Kurzendoerfer</td>\n",
       "      <td>NaN</td>\n",
       "      <td>NaN</td>\n",
       "    </tr>\n",
       "    <tr>\n",
       "      <th>6</th>\n",
       "      <td>100006</td>\n",
       "      <td>Courtney</td>\n",
       "      <td>Homer</td>\n",
       "      <td>81,558</td>\n",
       "      <td>jobsbostontech</td>\n",
       "    </tr>\n",
       "    <tr>\n",
       "      <th>7</th>\n",
       "      <td>100009</td>\n",
       "      <td>Eddy</td>\n",
       "      <td>Badrina</td>\n",
       "      <td>NaN</td>\n",
       "      <td>NaN</td>\n",
       "    </tr>\n",
       "    <tr>\n",
       "      <th>8</th>\n",
       "      <td>100010</td>\n",
       "      <td>Michael</td>\n",
       "      <td>Dadashyan</td>\n",
       "      <td>NaN</td>\n",
       "      <td>fbroulette</td>\n",
       "    </tr>\n",
       "    <tr>\n",
       "      <th>9</th>\n",
       "      <td>100011</td>\n",
       "      <td>Jeff</td>\n",
       "      <td>Grell</td>\n",
       "      <td>NaN</td>\n",
       "      <td>NaN</td>\n",
       "    </tr>\n",
       "    <tr>\n",
       "      <th>10</th>\n",
       "      <td>100012</td>\n",
       "      <td>Nick</td>\n",
       "      <td>Bova</td>\n",
       "      <td>NaN</td>\n",
       "      <td>NaN</td>\n",
       "    </tr>\n",
       "    <tr>\n",
       "      <th>11</th>\n",
       "      <td>100013</td>\n",
       "      <td>Umesh</td>\n",
       "      <td>Singh</td>\n",
       "      <td>NaN</td>\n",
       "      <td>NaN</td>\n",
       "    </tr>\n",
       "    <tr>\n",
       "      <th>12</th>\n",
       "      <td>100014</td>\n",
       "      <td>Larry</td>\n",
       "      <td>Blankenship</td>\n",
       "      <td>NaN</td>\n",
       "      <td>NaN</td>\n",
       "    </tr>\n",
       "    <tr>\n",
       "      <th>13</th>\n",
       "      <td>100015</td>\n",
       "      <td>Steven</td>\n",
       "      <td>G. Anderson</td>\n",
       "      <td>NaN</td>\n",
       "      <td>NaN</td>\n",
       "    </tr>\n",
       "    <tr>\n",
       "      <th>14</th>\n",
       "      <td>100016</td>\n",
       "      <td>Thomas</td>\n",
       "      <td>F. Ackerman</td>\n",
       "      <td>NaN</td>\n",
       "      <td>NaN</td>\n",
       "    </tr>\n",
       "    <tr>\n",
       "      <th>15</th>\n",
       "      <td>100017</td>\n",
       "      <td>Kurt</td>\n",
       "      <td>Azarbarzin</td>\n",
       "      <td>NaN</td>\n",
       "      <td>NaN</td>\n",
       "    </tr>\n",
       "    <tr>\n",
       "      <th>16</th>\n",
       "      <td>100018</td>\n",
       "      <td>Adam</td>\n",
       "      <td>Beckerman</td>\n",
       "      <td>148,554</td>\n",
       "      <td>adam_beckerman</td>\n",
       "    </tr>\n",
       "    <tr>\n",
       "      <th>17</th>\n",
       "      <td>100019</td>\n",
       "      <td>Melissa</td>\n",
       "      <td>French</td>\n",
       "      <td>NaN</td>\n",
       "      <td>netcastles</td>\n",
       "    </tr>\n",
       "    <tr>\n",
       "      <th>18</th>\n",
       "      <td>100022</td>\n",
       "      <td>OÄuz KaÄan</td>\n",
       "      <td>Aslan</td>\n",
       "      <td>NaN</td>\n",
       "      <td>OguzKaganAslan</td>\n",
       "    </tr>\n",
       "    <tr>\n",
       "      <th>19</th>\n",
       "      <td>100023</td>\n",
       "      <td>Neil</td>\n",
       "      <td>Chandran</td>\n",
       "      <td>81,571</td>\n",
       "      <td>neilchandran</td>\n",
       "    </tr>\n",
       "  </tbody>\n",
       "</table>\n",
       "</div>"
      ],
      "text/plain": [
       "        id    first_name      last_name  company_id network_username\n",
       "0       10          Mark     Zuckerberg           5              NaN\n",
       "1      100         Peter         Lester          27              NaN\n",
       "2     1000    Dr. Steven    E. Saunders         292              NaN\n",
       "3    10000          Neil          Capel       2,526              NaN\n",
       "4   100000           Sue         Pilsch         NaN              NaN\n",
       "5   100002         Keith  Kurzendoerfer         NaN              NaN\n",
       "6   100006      Courtney          Homer      81,558   jobsbostontech\n",
       "7   100009          Eddy        Badrina         NaN              NaN\n",
       "8   100010       Michael      Dadashyan         NaN       fbroulette\n",
       "9   100011          Jeff          Grell         NaN              NaN\n",
       "10  100012          Nick           Bova         NaN              NaN\n",
       "11  100013         Umesh          Singh         NaN              NaN\n",
       "12  100014         Larry    Blankenship         NaN              NaN\n",
       "13  100015        Steven    G. Anderson         NaN              NaN\n",
       "14  100016        Thomas    F. Ackerman         NaN              NaN\n",
       "15  100017          Kurt     Azarbarzin         NaN              NaN\n",
       "16  100018          Adam      Beckerman     148,554   adam_beckerman\n",
       "17  100019       Melissa         French         NaN       netcastles\n",
       "18  100022  OÄuz KaÄan          Aslan         NaN   OguzKaganAslan\n",
       "19  100023          Neil       Chandran      81,571     neilchandran"
      ]
     },
     "execution_count": 32,
     "metadata": {},
     "output_type": "execute_result"
    }
   ],
   "source": [
    "df_people.head(20)"
   ]
  },
  {
   "cell_type": "code",
   "execution_count": 33,
   "id": "3590ad4a-fbd1-4e8f-a895-0c63ff906c6f",
   "metadata": {},
   "outputs": [
    {
     "name": "stdout",
     "output_type": "stream",
     "text": [
      "<class 'pandas.core.frame.DataFrame'>\n",
      "RangeIndex: 226709 entries, 0 to 226708\n",
      "Data columns (total 5 columns):\n",
      " #   Column            Non-Null Count   Dtype  \n",
      "---  ------            --------------   -----  \n",
      " 0   id                226709 non-null  int64  \n",
      " 1   first_name        226704 non-null  object \n",
      " 2   last_name         226708 non-null  object \n",
      " 3   company_id        34615 non-null   float64\n",
      " 4   network_username  38867 non-null   object \n",
      "dtypes: float64(1), int64(1), object(3)\n",
      "memory usage: 8.6+ MB\n"
     ]
    }
   ],
   "source": [
    "df_people.info()"
   ]
  },
  {
   "cell_type": "code",
   "execution_count": 34,
   "id": "259bc310-df3a-414f-8b0b-feef365b70c3",
   "metadata": {},
   "outputs": [
    {
     "name": "stdout",
     "output_type": "stream",
     "text": [
      "<class 'pandas.core.frame.DataFrame'>\n",
      "RangeIndex: 109610 entries, 0 to 109609\n",
      "Data columns (total 4 columns):\n",
      " #   Column        Non-Null Count   Dtype         \n",
      "---  ------        --------------   -----         \n",
      " 0   id            109610 non-null  int64         \n",
      " 1   person_id     109610 non-null  int64         \n",
      " 2   instituition  109555 non-null  object        \n",
      " 3   graduated_at  58054 non-null   datetime64[ns]\n",
      "dtypes: datetime64[ns](1), int64(2), object(1)\n",
      "memory usage: 3.3+ MB\n"
     ]
    }
   ],
   "source": [
    "df_education.info()"
   ]
  },
  {
   "cell_type": "code",
   "execution_count": 35,
   "id": "134ca839-ccb1-4636-876f-46fe4da92ff2",
   "metadata": {},
   "outputs": [
    {
     "name": "stdout",
     "output_type": "stream",
     "text": [
      "                   employees_without_education  total_employees  \\\n",
      "organization_size                                                 \n",
      "1                                         8381            23292   \n",
      "2                                         2525             6924   \n",
      "3                                         1345             3588   \n",
      "4–5                                       1490             3804   \n",
      "6–10                                      1422             3409   \n",
      "11–25                                      650             1950   \n",
      "26+                                        338             1822   \n",
      "\n",
      "                   share_without_education  \n",
      "organization_size                           \n",
      "1                                       36  \n",
      "2                                       36  \n",
      "3                                       37  \n",
      "4–5                                     39  \n",
      "6–10                                    42  \n",
      "11–25                                   33  \n",
      "26+                                     19  \n"
     ]
    },
    {
     "data": {
      "image/png": "[encoded data removed]",
      "text/plain": [
       "<Figure size 720x432 with 1 Axes>"
      ]
     },
     "metadata": {
      "needs_background": "light"
     },
     "output_type": "display_data"
    }
   ],
   "source": [
    "df_people_and_education = pd.merge(df_people, df_education, left_on='id', right_on='person_id', how='left')\n",
    "company_sizes = (\n",
    "    df_people_and_education.groupby('company_id')['id_x']\n",
    "    .nunique()\n",
    "    .reset_index(name='staff_count')\n",
    ")\n",
    "df_people_and_education = df_people_and_education.merge(company_sizes, on='company_id', how='left')\n",
    "bins = [0, 1, 2, 3, 5, 10, 25, float('inf')]\n",
    "labels = ['1', '2', '3', '4–5', '6–10', '11–25', '26+']\n",
    "df_people_and_education['organization_size'] = pd.cut(\n",
    "    df_people_and_education['staff_count'],\n",
    "    bins=bins,\n",
    "    labels=labels,\n",
    "    right=True\n",
    ")\n",
    "\n",
    "df_people_and_education['is_education'] = df_people_and_education['person_id'].isna().apply(lambda x: 1 if x else 0)\n",
    "grouped = df_people_and_education.groupby('organization_size', observed=True).agg(\n",
    "    employees_without_education=('is_education', 'sum'),\n",
    "    total_employees=('id_x', 'count')\n",
    ")\n",
    "grouped['share_without_education'] = grouped['employees_without_education'] / grouped['total_employees'] * 100\n",
    "\n",
    "print(grouped)\n",
    "\n",
    "grouped['share_without_education'].plot(kind='bar', figsize=(10, 6), color='#ff7f0e')\n",
    "plt.title('Доля сотрудников без информации об образовании по размеру компании')\n",
    "plt.ylabel('% сотрудников без образования')\n",
    "plt.xlabel('Размер компании (кол-во сотрудников)')\n",
    "plt.xticks(rotation=0)\n",
    "plt.tight_layout()\n",
    "plt.show()"
   ]
  },
  {
   "cell_type": "markdown",
   "id": "f9c3ad73-a0a5-4eb3-b1e7-5f8e6761ed6c",
   "metadata": {},
   "source": [
    "В ходе анализа данных о сотрудниках и наличии у них информации об образовании была выявлена следующая тенденция: доля сотрудников без информации об образовании варьируется в зависимости от размера компании. В компаниях с небольшим и средним числом сотрудников (от 1 до 10 человек) эта доля составляет от 36% до 42%, достигая максимума в компаниях с 6–10 сотрудниками. В то же время, в крупных организациях с численностью более 25 сотрудников доля таких сотрудников значительно ниже — около 19%.\n",
    "\n",
    "Это может свидетельствовать о более строгом учёте и сборе данных об образовании в крупных компаниях, либо о более высоком уровне формализации HR-процессов. В небольших компаниях, возможно, данные собираются менее полно или реже обновляются.\n",
    "\n",
    "Данные результаты показывают важность размера организации как фактора, влияющего на полноту информации об образовании сотрудников, что стоит учитывать при дальнейших исследованиях и принятии управленческих решений."
   ]
  },
  {
   "cell_type": "code",
   "execution_count": 36,
   "id": "4ddb00d3-f015-434b-bb52-1ca47da83347",
   "metadata": {},
   "outputs": [
    {
     "data": {
      "text/html": [
       "<div>\n",
       "<style scoped>\n",
       "    .dataframe tbody tr th:only-of-type {\n",
       "        vertical-align: middle;\n",
       "    }\n",
       "\n",
       "    .dataframe tbody tr th {\n",
       "        vertical-align: top;\n",
       "    }\n",
       "\n",
       "    .dataframe thead th {\n",
       "        text-align: right;\n",
       "    }\n",
       "</style>\n",
       "<table border=\"1\" class=\"dataframe\">\n",
       "  <thead>\n",
       "    <tr style=\"text-align: right;\">\n",
       "      <th></th>\n",
       "      <th>id_x</th>\n",
       "      <th>first_name</th>\n",
       "      <th>last_name</th>\n",
       "      <th>company_id</th>\n",
       "      <th>network_username</th>\n",
       "      <th>id_y</th>\n",
       "      <th>person_id</th>\n",
       "      <th>instituition</th>\n",
       "      <th>graduated_at</th>\n",
       "      <th>staff_count</th>\n",
       "      <th>organization_size</th>\n",
       "      <th>is_education</th>\n",
       "    </tr>\n",
       "  </thead>\n",
       "  <tbody>\n",
       "    <tr>\n",
       "      <th>0</th>\n",
       "      <td>10</td>\n",
       "      <td>Mark</td>\n",
       "      <td>Zuckerberg</td>\n",
       "      <td>5</td>\n",
       "      <td>NaN</td>\n",
       "      <td>2,415</td>\n",
       "      <td>10</td>\n",
       "      <td>Harvard University</td>\n",
       "      <td>NaT</td>\n",
       "      <td>61</td>\n",
       "      <td>26+</td>\n",
       "      <td>0</td>\n",
       "    </tr>\n",
       "    <tr>\n",
       "      <th>1</th>\n",
       "      <td>100</td>\n",
       "      <td>Peter</td>\n",
       "      <td>Lester</td>\n",
       "      <td>27</td>\n",
       "      <td>NaN</td>\n",
       "      <td>NaN</td>\n",
       "      <td>NaN</td>\n",
       "      <td>NaN</td>\n",
       "      <td>NaT</td>\n",
       "      <td>10</td>\n",
       "      <td>6–10</td>\n",
       "      <td>1</td>\n",
       "    </tr>\n",
       "    <tr>\n",
       "      <th>2</th>\n",
       "      <td>1000</td>\n",
       "      <td>Dr. Steven</td>\n",
       "      <td>E. Saunders</td>\n",
       "      <td>292</td>\n",
       "      <td>NaN</td>\n",
       "      <td>NaN</td>\n",
       "      <td>NaN</td>\n",
       "      <td>NaN</td>\n",
       "      <td>NaT</td>\n",
       "      <td>3</td>\n",
       "      <td>3</td>\n",
       "      <td>1</td>\n",
       "    </tr>\n",
       "    <tr>\n",
       "      <th>3</th>\n",
       "      <td>10000</td>\n",
       "      <td>Neil</td>\n",
       "      <td>Capel</td>\n",
       "      <td>2,526</td>\n",
       "      <td>NaN</td>\n",
       "      <td>NaN</td>\n",
       "      <td>NaN</td>\n",
       "      <td>NaN</td>\n",
       "      <td>NaT</td>\n",
       "      <td>2</td>\n",
       "      <td>2</td>\n",
       "      <td>1</td>\n",
       "    </tr>\n",
       "    <tr>\n",
       "      <th>4</th>\n",
       "      <td>100000</td>\n",
       "      <td>Sue</td>\n",
       "      <td>Pilsch</td>\n",
       "      <td>NaN</td>\n",
       "      <td>NaN</td>\n",
       "      <td>NaN</td>\n",
       "      <td>NaN</td>\n",
       "      <td>NaN</td>\n",
       "      <td>NaT</td>\n",
       "      <td>NaN</td>\n",
       "      <td>NaN</td>\n",
       "      <td>1</td>\n",
       "    </tr>\n",
       "  </tbody>\n",
       "</table>\n",
       "</div>"
      ],
      "text/plain": [
       "     id_x  first_name    last_name  company_id network_username  id_y  \\\n",
       "0      10        Mark   Zuckerberg           5              NaN 2,415   \n",
       "1     100       Peter       Lester          27              NaN   NaN   \n",
       "2    1000  Dr. Steven  E. Saunders         292              NaN   NaN   \n",
       "3   10000        Neil        Capel       2,526              NaN   NaN   \n",
       "4  100000         Sue       Pilsch         NaN              NaN   NaN   \n",
       "\n",
       "   person_id        instituition graduated_at  staff_count organization_size  \\\n",
       "0         10  Harvard University          NaT           61               26+   \n",
       "1        NaN                 NaN          NaT           10              6–10   \n",
       "2        NaN                 NaN          NaT            3                 3   \n",
       "3        NaN                 NaN          NaT            2                 2   \n",
       "4        NaN                 NaN          NaT          NaN               NaN   \n",
       "\n",
       "   is_education  \n",
       "0             0  \n",
       "1             1  \n",
       "2             1  \n",
       "3             1  \n",
       "4             1  "
      ]
     },
     "execution_count": 36,
     "metadata": {},
     "output_type": "execute_result"
    }
   ],
   "source": [
    "df_people_and_education.head()"
   ]
  },
  {
   "cell_type": "code",
   "execution_count": 37,
   "id": "34c44186-a975-4e9a-93d1-509696fd54fa",
   "metadata": {},
   "outputs": [
    {
     "data": {
      "text/html": [
       "<div>\n",
       "<style scoped>\n",
       "    .dataframe tbody tr th:only-of-type {\n",
       "        vertical-align: middle;\n",
       "    }\n",
       "\n",
       "    .dataframe tbody tr th {\n",
       "        vertical-align: top;\n",
       "    }\n",
       "\n",
       "    .dataframe thead th {\n",
       "        text-align: right;\n",
       "    }\n",
       "</style>\n",
       "<table border=\"1\" class=\"dataframe\">\n",
       "  <thead>\n",
       "    <tr style=\"text-align: right;\">\n",
       "      <th></th>\n",
       "      <th>id</th>\n",
       "      <th>object_id</th>\n",
       "      <th>degree_type</th>\n",
       "      <th>subject</th>\n",
       "    </tr>\n",
       "  </thead>\n",
       "  <tbody>\n",
       "    <tr>\n",
       "      <th>0</th>\n",
       "      <td>1</td>\n",
       "      <td>p:6117</td>\n",
       "      <td>MBA</td>\n",
       "      <td>NaN</td>\n",
       "    </tr>\n",
       "    <tr>\n",
       "      <th>1</th>\n",
       "      <td>2</td>\n",
       "      <td>p:6136</td>\n",
       "      <td>BA</td>\n",
       "      <td>English, French</td>\n",
       "    </tr>\n",
       "    <tr>\n",
       "      <th>2</th>\n",
       "      <td>3</td>\n",
       "      <td>p:6136</td>\n",
       "      <td>MS</td>\n",
       "      <td>Mass Communication</td>\n",
       "    </tr>\n",
       "    <tr>\n",
       "      <th>3</th>\n",
       "      <td>4</td>\n",
       "      <td>p:6005</td>\n",
       "      <td>MS</td>\n",
       "      <td>Internet Technology</td>\n",
       "    </tr>\n",
       "    <tr>\n",
       "      <th>4</th>\n",
       "      <td>5</td>\n",
       "      <td>p:5832</td>\n",
       "      <td>BCS</td>\n",
       "      <td>Computer Science, Psychology</td>\n",
       "    </tr>\n",
       "  </tbody>\n",
       "</table>\n",
       "</div>"
      ],
      "text/plain": [
       "   id object_id degree_type                       subject\n",
       "0   1    p:6117         MBA                           NaN\n",
       "1   2    p:6136          BA               English, French\n",
       "2   3    p:6136          MS            Mass Communication\n",
       "3   4    p:6005          MS           Internet Technology\n",
       "4   5    p:5832         BCS  Computer Science, Psychology"
      ]
     },
     "execution_count": 37,
     "metadata": {},
     "output_type": "execute_result"
    }
   ],
   "source": [
    "df_degrees.head()"
   ]
  },
  {
   "cell_type": "code",
   "execution_count": 38,
   "id": "2a106484-b5a7-49d3-8902-217b486bdee3",
   "metadata": {},
   "outputs": [],
   "source": [
    "df_degrees['object_id'] = df_degrees['object_id'].str.replace('p:', '').astype('float')\n",
    "df_people_education_degrees = pd.merge(df_people_and_education, df_degrees, left_on = 'person_id', right_on = 'object_id', how = 'left')"
   ]
  },
  {
   "cell_type": "markdown",
   "id": "c584057f",
   "metadata": {},
   "source": [
    "### Объединять или не объединять"
   ]
  },
  {
   "cell_type": "code",
   "execution_count": 39,
   "id": "7ea54404-8ab7-4e6c-b902-50ced2e50f23",
   "metadata": {},
   "outputs": [
    {
     "name": "stdout",
     "output_type": "stream",
     "text": [
      "2503\n"
     ]
    }
   ],
   "source": [
    "df_company_and_rounds.loc[:, 'network_username'] = df_company_and_rounds['network_username'].str.lower()\n",
    "df_people_education_degrees.loc[:, 'network_username'] = df_people_education_degrees['network_username'].str.lower()\n",
    "# df_company_and_rounds = df_company_and_rounds.dropna(subset=['network_username'])\n",
    "df_people_education_degrees = df_people_education_degrees.dropna(subset=['network_username'])\n",
    "df_compare = set(df_company_and_rounds['network_username']) & set(df_people_education_degrees['network_username'])\n",
    "print(len(df_compare))\n"
   ]
  },
  {
   "cell_type": "code",
   "execution_count": 40,
   "id": "e060d308-b774-47fc-ba10-b6510c46eee7",
   "metadata": {},
   "outputs": [
    {
     "name": "stdout",
     "output_type": "stream",
     "text": [
      "<class 'pandas.core.frame.DataFrame'>\n",
      "Int64Index: 81529 entries, 6 to 370835\n",
      "Data columns (total 16 columns):\n",
      " #   Column             Non-Null Count  Dtype         \n",
      "---  ------             --------------  -----         \n",
      " 0   id_x               81529 non-null  int64         \n",
      " 1   first_name         81529 non-null  object        \n",
      " 2   last_name          81529 non-null  object        \n",
      " 3   company_id         37404 non-null  float64       \n",
      " 4   network_username   81529 non-null  object        \n",
      " 5   id_y               64329 non-null  float64       \n",
      " 6   person_id          64329 non-null  float64       \n",
      " 7   instituition       64276 non-null  object        \n",
      " 8   graduated_at       45264 non-null  datetime64[ns]\n",
      " 9   staff_count        37404 non-null  float64       \n",
      " 10  organization_size  37404 non-null  category      \n",
      " 11  is_education       81529 non-null  int64         \n",
      " 12  id                 64329 non-null  float64       \n",
      " 13  object_id          64329 non-null  float64       \n",
      " 14  degree_type        55924 non-null  object        \n",
      " 15  subject            51384 non-null  object        \n",
      "dtypes: category(1), datetime64[ns](1), float64(6), int64(2), object(6)\n",
      "memory usage: 10.0+ MB\n"
     ]
    }
   ],
   "source": [
    "df_people_education_degrees.info()"
   ]
  },
  {
   "cell_type": "markdown",
   "id": "fd661fe6-6c54-43e1-b29c-58e40cbc8ff6",
   "metadata": {},
   "source": [
    "Столбец network_username присутствует в двух таблицах: df_people_education_degrees (81 529 записей) и df_company_and_rounds (95 534 записи). Однако пересечение значений между ними составляет лишь 2 503 строки. Это означает, что совпадения крайне редки, и данный столбец нельзя считать надёжным ключом для объединения данных между этими таблицами."
   ]
  },
  {
   "cell_type": "markdown",
   "id": "4881e02f",
   "metadata": {},
   "source": [
    "### Проблемный датасет и причина возникновения пропусков"
   ]
  },
  {
   "cell_type": "code",
   "execution_count": 41,
   "id": "98274539-c1c8-4356-bb65-300489af8833",
   "metadata": {},
   "outputs": [
    {
     "data": {
      "text/html": [
       "<div>\n",
       "<style scoped>\n",
       "    .dataframe tbody tr th:only-of-type {\n",
       "        vertical-align: middle;\n",
       "    }\n",
       "\n",
       "    .dataframe tbody tr th {\n",
       "        vertical-align: top;\n",
       "    }\n",
       "\n",
       "    .dataframe thead th {\n",
       "        text-align: right;\n",
       "    }\n",
       "</style>\n",
       "<table border=\"1\" class=\"dataframe\">\n",
       "  <thead>\n",
       "    <tr style=\"text-align: right;\">\n",
       "      <th></th>\n",
       "      <th>company_id</th>\n",
       "      <th>name</th>\n",
       "      <th>category_code</th>\n",
       "      <th>status</th>\n",
       "      <th>founded_at</th>\n",
       "      <th>closed_at</th>\n",
       "      <th>domain</th>\n",
       "      <th>network_username</th>\n",
       "      <th>country_code</th>\n",
       "      <th>investment_rounds</th>\n",
       "      <th>...</th>\n",
       "      <th>funding_round_id</th>\n",
       "      <th>company_id</th>\n",
       "      <th>funded_at</th>\n",
       "      <th>funding_round_type</th>\n",
       "      <th>raised_amount</th>\n",
       "      <th>pre_money_valuation</th>\n",
       "      <th>participants</th>\n",
       "      <th>is_first_round</th>\n",
       "      <th>is_last_round</th>\n",
       "      <th>year</th>\n",
       "    </tr>\n",
       "  </thead>\n",
       "  <tbody>\n",
       "    <tr>\n",
       "      <th>0</th>\n",
       "      <td>1</td>\n",
       "      <td>Wetpaint</td>\n",
       "      <td>web</td>\n",
       "      <td>operating</td>\n",
       "      <td>2005-10-17</td>\n",
       "      <td>NaN</td>\n",
       "      <td>wetpaint-inc.com</td>\n",
       "      <td>bachelrwetpaint</td>\n",
       "      <td>USA</td>\n",
       "      <td>0</td>\n",
       "      <td>...</td>\n",
       "      <td>888</td>\n",
       "      <td>1</td>\n",
       "      <td>2005-10-01</td>\n",
       "      <td>series-a</td>\n",
       "      <td>5,250,000</td>\n",
       "      <td>0</td>\n",
       "      <td>2</td>\n",
       "      <td>0</td>\n",
       "      <td>1</td>\n",
       "      <td>2005</td>\n",
       "    </tr>\n",
       "    <tr>\n",
       "      <th>1</th>\n",
       "      <td>1</td>\n",
       "      <td>Wetpaint</td>\n",
       "      <td>web</td>\n",
       "      <td>operating</td>\n",
       "      <td>2005-10-17</td>\n",
       "      <td>NaN</td>\n",
       "      <td>wetpaint-inc.com</td>\n",
       "      <td>bachelrwetpaint</td>\n",
       "      <td>USA</td>\n",
       "      <td>0</td>\n",
       "      <td>...</td>\n",
       "      <td>889</td>\n",
       "      <td>1</td>\n",
       "      <td>2007-01-01</td>\n",
       "      <td>series-b</td>\n",
       "      <td>9,500,000</td>\n",
       "      <td>0</td>\n",
       "      <td>3</td>\n",
       "      <td>0</td>\n",
       "      <td>0</td>\n",
       "      <td>2007</td>\n",
       "    </tr>\n",
       "    <tr>\n",
       "      <th>2</th>\n",
       "      <td>1</td>\n",
       "      <td>Wetpaint</td>\n",
       "      <td>web</td>\n",
       "      <td>operating</td>\n",
       "      <td>2005-10-17</td>\n",
       "      <td>NaN</td>\n",
       "      <td>wetpaint-inc.com</td>\n",
       "      <td>bachelrwetpaint</td>\n",
       "      <td>USA</td>\n",
       "      <td>0</td>\n",
       "      <td>...</td>\n",
       "      <td>2,312</td>\n",
       "      <td>1</td>\n",
       "      <td>2008-05-19</td>\n",
       "      <td>series-c+</td>\n",
       "      <td>25,000,000</td>\n",
       "      <td>0</td>\n",
       "      <td>4</td>\n",
       "      <td>1</td>\n",
       "      <td>0</td>\n",
       "      <td>2008</td>\n",
       "    </tr>\n",
       "    <tr>\n",
       "      <th>3</th>\n",
       "      <td>10</td>\n",
       "      <td>Flektor</td>\n",
       "      <td>games_video</td>\n",
       "      <td>acquired</td>\n",
       "      <td>NaT</td>\n",
       "      <td>NaN</td>\n",
       "      <td>flektor.com</td>\n",
       "      <td>NaN</td>\n",
       "      <td>USA</td>\n",
       "      <td>0</td>\n",
       "      <td>...</td>\n",
       "      <td>NaN</td>\n",
       "      <td>NaN</td>\n",
       "      <td>NaT</td>\n",
       "      <td>NaN</td>\n",
       "      <td>NaN</td>\n",
       "      <td>NaN</td>\n",
       "      <td>NaN</td>\n",
       "      <td>NaN</td>\n",
       "      <td>NaN</td>\n",
       "      <td>&lt;NA&gt;</td>\n",
       "    </tr>\n",
       "    <tr>\n",
       "      <th>4</th>\n",
       "      <td>100</td>\n",
       "      <td>There</td>\n",
       "      <td>games_video</td>\n",
       "      <td>acquired</td>\n",
       "      <td>NaT</td>\n",
       "      <td>NaN</td>\n",
       "      <td>there.com</td>\n",
       "      <td>NaN</td>\n",
       "      <td>USA</td>\n",
       "      <td>0</td>\n",
       "      <td>...</td>\n",
       "      <td>NaN</td>\n",
       "      <td>NaN</td>\n",
       "      <td>NaT</td>\n",
       "      <td>NaN</td>\n",
       "      <td>NaN</td>\n",
       "      <td>NaN</td>\n",
       "      <td>NaN</td>\n",
       "      <td>NaN</td>\n",
       "      <td>NaN</td>\n",
       "      <td>&lt;NA&gt;</td>\n",
       "    </tr>\n",
       "  </tbody>\n",
       "</table>\n",
       "<p>5 rows × 23 columns</p>\n",
       "</div>"
      ],
      "text/plain": [
       "   company_id      name category_code     status founded_at closed_at  \\\n",
       "0           1  Wetpaint           web  operating 2005-10-17       NaN   \n",
       "1           1  Wetpaint           web  operating 2005-10-17       NaN   \n",
       "2           1  Wetpaint           web  operating 2005-10-17       NaN   \n",
       "3          10   Flektor   games_video   acquired        NaT       NaN   \n",
       "4         100     There   games_video   acquired        NaT       NaN   \n",
       "\n",
       "             domain network_username country_code  investment_rounds  ...  \\\n",
       "0  wetpaint-inc.com  bachelrwetpaint          USA                  0  ...   \n",
       "1  wetpaint-inc.com  bachelrwetpaint          USA                  0  ...   \n",
       "2  wetpaint-inc.com  bachelrwetpaint          USA                  0  ...   \n",
       "3       flektor.com              NaN          USA                  0  ...   \n",
       "4         there.com              NaN          USA                  0  ...   \n",
       "\n",
       "   funding_round_id  company_id  funded_at  funding_round_type  raised_amount  \\\n",
       "0               888           1 2005-10-01            series-a      5,250,000   \n",
       "1               889           1 2007-01-01            series-b      9,500,000   \n",
       "2             2,312           1 2008-05-19           series-c+     25,000,000   \n",
       "3               NaN         NaN        NaT                 NaN            NaN   \n",
       "4               NaN         NaN        NaT                 NaN            NaN   \n",
       "\n",
       "  pre_money_valuation participants  is_first_round  is_last_round  year  \n",
       "0                   0            2               0              1  2005  \n",
       "1                   0            3               0              0  2007  \n",
       "2                   0            4               1              0  2008  \n",
       "3                 NaN          NaN             NaN            NaN  <NA>  \n",
       "4                 NaN          NaN             NaN            NaN  <NA>  \n",
       "\n",
       "[5 rows x 23 columns]"
      ]
     },
     "execution_count": 41,
     "metadata": {},
     "output_type": "execute_result"
    }
   ],
   "source": [
    "df_company_and_rounds.head()"
   ]
  },
  {
   "cell_type": "markdown",
   "id": "0f2fc3b1-9949-4980-82c0-34d29f34a617",
   "metadata": {},
   "source": [
    "В таблице df_company_and_rounds столбец company_id встречается дважды, что указывает на объединение двух датасетов — данных о компаниях и данных о раундах финансирования. В результате такого объединения для одной и той же компании появляются несколько строк с разными раундами, из-за чего возникает дублирование информации по компании (например, повторяются поля name, category_code и др.). "
   ]
  },
  {
   "cell_type": "markdown",
   "id": "11819c5a-692b-4a44-b83e-ed6c72b9bd9a",
   "metadata": {},
   "source": [
    "columns_list = df_company_and_rounds.columns.tolist()\n",
    "name_col = 'company_id'\n",
    "new_columns = []\n",
    "i = 0\n",
    "for col in columns_list:\n",
    "    if col == name_col:\n",
    "        if i == 0:   \n",
    "            new_columns.append(col)\n",
    "            i += 1    \n",
    "        else:\n",
    "            new_columns.append(f'{col}_1') \n",
    "    else:\n",
    "        new_columns.append(col)\n",
    "\n",
    "df_company_and_rounds.columns = new_columns\n",
    "\n",
    "df_companies = df_company_and_rounds[\n",
    "    ['company_id', 'name', 'category_code', 'status', 'founded_at',\n",
    "     'closed_at', 'domain', 'network_username', 'country_code',\n",
    "     'investment_rounds', 'funding_rounds', 'funding_total', 'milestones']\n",
    "].drop_duplicates(subset='company_id')\n",
    "df_rounds = df_company_and_rounds[\n",
    "    ['company_id', 'funding_round_id', 'funded_at', 'funding_round_type',\n",
    "     'raised_amount', 'pre_money_valuation', 'participants',\n",
    "     'is_first_round', 'is_last_round', 'year']\n",
    "].dropna(subset=['funding_round_id'])\n",
    "df_company_rounds = df_companies.merge(df_rounds, on='company_id', how='left')\n",
    "df_company_rounds.head()"
   ]
  },
  {
   "cell_type": "code",
   "execution_count": 42,
   "id": "f86bb15f-732d-4dea-aa74-b72def6a632b",
   "metadata": {},
   "outputs": [
    {
     "data": {
      "text/html": [
       "<div>\n",
       "<style scoped>\n",
       "    .dataframe tbody tr th:only-of-type {\n",
       "        vertical-align: middle;\n",
       "    }\n",
       "\n",
       "    .dataframe tbody tr th {\n",
       "        vertical-align: top;\n",
       "    }\n",
       "\n",
       "    .dataframe thead th {\n",
       "        text-align: right;\n",
       "    }\n",
       "</style>\n",
       "<table border=\"1\" class=\"dataframe\">\n",
       "  <thead>\n",
       "    <tr style=\"text-align: right;\">\n",
       "      <th></th>\n",
       "      <th>company_id_1</th>\n",
       "      <th>raised_amount</th>\n",
       "      <th>funding_round_id</th>\n",
       "      <th>funded_at</th>\n",
       "      <th>funding_round_type</th>\n",
       "      <th>pre_money_valuation</th>\n",
       "      <th>participants</th>\n",
       "      <th>is_first_round</th>\n",
       "      <th>is_last_round</th>\n",
       "      <th>year</th>\n",
       "    </tr>\n",
       "  </thead>\n",
       "  <tbody>\n",
       "    <tr>\n",
       "      <th>3</th>\n",
       "      <td>NaN</td>\n",
       "      <td>NaN</td>\n",
       "      <td>NaN</td>\n",
       "      <td>NaT</td>\n",
       "      <td>NaN</td>\n",
       "      <td>NaN</td>\n",
       "      <td>NaN</td>\n",
       "      <td>NaN</td>\n",
       "      <td>NaN</td>\n",
       "      <td>&lt;NA&gt;</td>\n",
       "    </tr>\n",
       "    <tr>\n",
       "      <th>4</th>\n",
       "      <td>NaN</td>\n",
       "      <td>NaN</td>\n",
       "      <td>NaN</td>\n",
       "      <td>NaT</td>\n",
       "      <td>NaN</td>\n",
       "      <td>NaN</td>\n",
       "      <td>NaN</td>\n",
       "      <td>NaN</td>\n",
       "      <td>NaN</td>\n",
       "      <td>&lt;NA&gt;</td>\n",
       "    </tr>\n",
       "    <tr>\n",
       "      <th>5</th>\n",
       "      <td>NaN</td>\n",
       "      <td>NaN</td>\n",
       "      <td>NaN</td>\n",
       "      <td>NaT</td>\n",
       "      <td>NaN</td>\n",
       "      <td>NaN</td>\n",
       "      <td>NaN</td>\n",
       "      <td>NaN</td>\n",
       "      <td>NaN</td>\n",
       "      <td>&lt;NA&gt;</td>\n",
       "    </tr>\n",
       "    <tr>\n",
       "      <th>6</th>\n",
       "      <td>NaN</td>\n",
       "      <td>NaN</td>\n",
       "      <td>NaN</td>\n",
       "      <td>NaT</td>\n",
       "      <td>NaN</td>\n",
       "      <td>NaN</td>\n",
       "      <td>NaN</td>\n",
       "      <td>NaN</td>\n",
       "      <td>NaN</td>\n",
       "      <td>&lt;NA&gt;</td>\n",
       "    </tr>\n",
       "    <tr>\n",
       "      <th>7</th>\n",
       "      <td>NaN</td>\n",
       "      <td>NaN</td>\n",
       "      <td>NaN</td>\n",
       "      <td>NaT</td>\n",
       "      <td>NaN</td>\n",
       "      <td>NaN</td>\n",
       "      <td>NaN</td>\n",
       "      <td>NaN</td>\n",
       "      <td>NaN</td>\n",
       "      <td>&lt;NA&gt;</td>\n",
       "    </tr>\n",
       "  </tbody>\n",
       "</table>\n",
       "</div>"
      ],
      "text/plain": [
       "   company_id_1  raised_amount  funding_round_id funded_at funding_round_type  \\\n",
       "3           NaN            NaN               NaN       NaT                NaN   \n",
       "4           NaN            NaN               NaN       NaT                NaN   \n",
       "5           NaN            NaN               NaN       NaT                NaN   \n",
       "6           NaN            NaN               NaN       NaT                NaN   \n",
       "7           NaN            NaN               NaN       NaT                NaN   \n",
       "\n",
       "   pre_money_valuation  participants  is_first_round  is_last_round  year  \n",
       "3                  NaN           NaN             NaN            NaN  <NA>  \n",
       "4                  NaN           NaN             NaN            NaN  <NA>  \n",
       "5                  NaN           NaN             NaN            NaN  <NA>  \n",
       "6                  NaN           NaN             NaN            NaN  <NA>  \n",
       "7                  NaN           NaN             NaN            NaN  <NA>  "
      ]
     },
     "metadata": {},
     "output_type": "display_data"
    }
   ],
   "source": [
    "columns_list = df_company_and_rounds.columns.tolist() \n",
    "name_col = 'company_id' \n",
    "new_columns = [] \n",
    "i = 0 \n",
    "for col in columns_list: \n",
    "    if col == name_col: \n",
    "        if i == 0:\n",
    "            new_columns.append(col) \n",
    "            i += 1\n",
    "        else: \n",
    "            new_columns.append(f'{col}_1') \n",
    "    else: \n",
    "        new_columns.append(col)\n",
    "\n",
    "df_company_and_rounds.columns = new_columns\n",
    "\n",
    "df_company = df_company_and_rounds[['company_id', 'name', 'category_code', 'status', \n",
    "                             'founded_at', 'closed_at', 'domain', \n",
    "                             'network_username', 'country_code', \n",
    "                             'investment_rounds', 'funding_rounds', \n",
    "                            'funding_total', 'milestones']]\n",
    "\n",
    "df_company=df_company.drop_duplicates(subset=['company_id', 'name', 'category_code', 'status', \n",
    "                             'founded_at', 'closed_at', 'domain', \n",
    "                             'network_username', 'country_code', 'investment_rounds', 'funding_rounds', \n",
    "                            'funding_total', 'milestones'], keep='first')\n",
    "\n",
    "df_rounds = df_company_and_rounds[['company_id_1', 'raised_amount', 'funding_round_id', \n",
    "                            'funded_at', 'funding_round_type', 'pre_money_valuation', \n",
    "                            'participants', 'is_first_round', \n",
    "                            'is_last_round', 'year']]\n",
    "\n",
    "display(df_rounds[df_rounds['funding_round_type'].isna()].head()) \n",
    "\n",
    "\n",
    "df_rounds=df_rounds.dropna(subset=['funding_round_type'])"
   ]
  },
  {
   "cell_type": "code",
   "execution_count": 43,
   "id": "f556a7f3-b6df-47e5-99f8-b35cf0bf3b67",
   "metadata": {},
   "outputs": [
    {
     "name": "stdout",
     "output_type": "stream",
     "text": [
      "<class 'pandas.core.frame.DataFrame'>\n",
      "Int64Index: 196554 entries, 0 to 217472\n",
      "Data columns (total 13 columns):\n",
      " #   Column             Non-Null Count   Dtype         \n",
      "---  ------             --------------   -----         \n",
      " 0   company_id         196553 non-null  float64       \n",
      " 1   name               196553 non-null  object        \n",
      " 2   category_code      123186 non-null  object        \n",
      " 3   status             196553 non-null  object        \n",
      " 4   founded_at         91227 non-null   datetime64[ns]\n",
      " 5   closed_at          2620 non-null    object        \n",
      " 6   domain             126545 non-null  object        \n",
      " 7   network_username   80591 non-null   object        \n",
      " 8   country_code       87990 non-null   object        \n",
      " 9   investment_rounds  196553 non-null  float64       \n",
      " 10  funding_rounds     196553 non-null  float64       \n",
      " 11  funding_total      196553 non-null  float64       \n",
      " 12  milestones         196553 non-null  float64       \n",
      "dtypes: datetime64[ns](1), float64(5), object(7)\n",
      "memory usage: 21.0+ MB\n"
     ]
    }
   ],
   "source": [
    "df_company.info()"
   ]
  },
  {
   "cell_type": "code",
   "execution_count": 44,
   "id": "a78f42d9-d380-4760-9d34-045f453fe270",
   "metadata": {},
   "outputs": [
    {
     "data": {
      "text/plain": [
       "closed_at            193934\n",
       "network_username     115963\n",
       "country_code         108564\n",
       "founded_at           105327\n",
       "category_code         73368\n",
       "domain                70009\n",
       "company_id                1\n",
       "name                      1\n",
       "status                    1\n",
       "investment_rounds         1\n",
       "funding_rounds            1\n",
       "funding_total             1\n",
       "milestones                1\n",
       "dtype: int64"
      ]
     },
     "execution_count": 44,
     "metadata": {},
     "output_type": "execute_result"
    }
   ],
   "source": [
    "df_company.isna().sum().sort_values(ascending= False)"
   ]
  },
  {
   "cell_type": "code",
   "execution_count": 45,
   "id": "100211f8-1ca6-4363-a38e-4e80290df4eb",
   "metadata": {},
   "outputs": [],
   "source": [
    "for col in ['closed_at', 'country_code', 'founded_at', 'domain']:\n",
    "    df_company[col] = df_company[col].fillna(-1)"
   ]
  },
  {
   "cell_type": "code",
   "execution_count": 46,
   "id": "f5672985-5f13-4bcf-9b3c-5ff8dfe48b09",
   "metadata": {},
   "outputs": [],
   "source": [
    "for col in ['company_id', 'investment_rounds', 'funding_rounds', 'milestones']:\n",
    "    df_company[col] = pd.to_numeric(df_company[col], downcast = 'integer')"
   ]
  },
  {
   "cell_type": "code",
   "execution_count": 47,
   "id": "ce181a2a-4df2-4f49-9b3f-a9e46d1e1d00",
   "metadata": {},
   "outputs": [
    {
     "name": "stdout",
     "output_type": "stream",
     "text": [
      "<class 'pandas.core.frame.DataFrame'>\n",
      "Int64Index: 196554 entries, 0 to 217472\n",
      "Data columns (total 13 columns):\n",
      " #   Column             Non-Null Count   Dtype  \n",
      "---  ------             --------------   -----  \n",
      " 0   company_id         196553 non-null  float64\n",
      " 1   name               196553 non-null  object \n",
      " 2   category_code      123186 non-null  object \n",
      " 3   status             196553 non-null  object \n",
      " 4   founded_at         196554 non-null  object \n",
      " 5   closed_at          196554 non-null  object \n",
      " 6   domain             196554 non-null  object \n",
      " 7   network_username   80591 non-null   object \n",
      " 8   country_code       196554 non-null  object \n",
      " 9   investment_rounds  196553 non-null  float64\n",
      " 10  funding_rounds     196553 non-null  float64\n",
      " 11  funding_total      196553 non-null  float64\n",
      " 12  milestones         196553 non-null  float64\n",
      "dtypes: float64(5), object(8)\n",
      "memory usage: 21.0+ MB\n"
     ]
    }
   ],
   "source": [
    "df_company.info()"
   ]
  },
  {
   "cell_type": "code",
   "execution_count": 48,
   "id": "fc9769c7-430b-464e-867f-c21bf7f224a4",
   "metadata": {},
   "outputs": [],
   "source": [
    "df_sorted_company = df_company[\n",
    "    (df_company['funding_rounds'] > 0) |\n",
    "    (df_company['investment_rounds'] > 0) |\n",
    "    (df_company['status'] == 'acquired')\n",
    "]"
   ]
  },
  {
   "cell_type": "code",
   "execution_count": 49,
   "id": "dae172c3-3726-40f3-9128-5c7a4a4b9713",
   "metadata": {},
   "outputs": [
    {
     "data": {
      "text/html": [
       "<div>\n",
       "<style scoped>\n",
       "    .dataframe tbody tr th:only-of-type {\n",
       "        vertical-align: middle;\n",
       "    }\n",
       "\n",
       "    .dataframe tbody tr th {\n",
       "        vertical-align: top;\n",
       "    }\n",
       "\n",
       "    .dataframe thead th {\n",
       "        text-align: right;\n",
       "    }\n",
       "</style>\n",
       "<table border=\"1\" class=\"dataframe\">\n",
       "  <thead>\n",
       "    <tr style=\"text-align: right;\">\n",
       "      <th></th>\n",
       "      <th>company_id</th>\n",
       "      <th>name</th>\n",
       "      <th>category_code</th>\n",
       "      <th>status</th>\n",
       "      <th>founded_at</th>\n",
       "      <th>closed_at</th>\n",
       "      <th>domain</th>\n",
       "      <th>network_username</th>\n",
       "      <th>country_code</th>\n",
       "      <th>investment_rounds</th>\n",
       "      <th>funding_rounds</th>\n",
       "      <th>funding_total</th>\n",
       "      <th>milestones</th>\n",
       "    </tr>\n",
       "  </thead>\n",
       "  <tbody>\n",
       "    <tr>\n",
       "      <th>0</th>\n",
       "      <td>1</td>\n",
       "      <td>Wetpaint</td>\n",
       "      <td>web</td>\n",
       "      <td>operating</td>\n",
       "      <td>2005-10-17 00:00:00</td>\n",
       "      <td>-1</td>\n",
       "      <td>wetpaint-inc.com</td>\n",
       "      <td>bachelrwetpaint</td>\n",
       "      <td>USA</td>\n",
       "      <td>0</td>\n",
       "      <td>3</td>\n",
       "      <td>39,750,000</td>\n",
       "      <td>5</td>\n",
       "    </tr>\n",
       "    <tr>\n",
       "      <th>3</th>\n",
       "      <td>10</td>\n",
       "      <td>Flektor</td>\n",
       "      <td>games_video</td>\n",
       "      <td>acquired</td>\n",
       "      <td>-1</td>\n",
       "      <td>-1</td>\n",
       "      <td>flektor.com</td>\n",
       "      <td>NaN</td>\n",
       "      <td>USA</td>\n",
       "      <td>0</td>\n",
       "      <td>0</td>\n",
       "      <td>0</td>\n",
       "      <td>0</td>\n",
       "    </tr>\n",
       "    <tr>\n",
       "      <th>4</th>\n",
       "      <td>100</td>\n",
       "      <td>There</td>\n",
       "      <td>games_video</td>\n",
       "      <td>acquired</td>\n",
       "      <td>-1</td>\n",
       "      <td>-1</td>\n",
       "      <td>there.com</td>\n",
       "      <td>NaN</td>\n",
       "      <td>USA</td>\n",
       "      <td>0</td>\n",
       "      <td>0</td>\n",
       "      <td>0</td>\n",
       "      <td>4</td>\n",
       "    </tr>\n",
       "    <tr>\n",
       "      <th>15</th>\n",
       "      <td>1,001</td>\n",
       "      <td>FriendFeed</td>\n",
       "      <td>web</td>\n",
       "      <td>acquired</td>\n",
       "      <td>2007-10-01 00:00:00</td>\n",
       "      <td>-1</td>\n",
       "      <td>friendfeed.com</td>\n",
       "      <td>friendfeed</td>\n",
       "      <td>USA</td>\n",
       "      <td>0</td>\n",
       "      <td>1</td>\n",
       "      <td>5,000,000</td>\n",
       "      <td>3</td>\n",
       "    </tr>\n",
       "    <tr>\n",
       "      <th>20</th>\n",
       "      <td>10,014</td>\n",
       "      <td>Mobclix</td>\n",
       "      <td>mobile</td>\n",
       "      <td>acquired</td>\n",
       "      <td>2008-03-01 00:00:00</td>\n",
       "      <td>-1</td>\n",
       "      <td>mobclix.com</td>\n",
       "      <td>mobclix</td>\n",
       "      <td>USA</td>\n",
       "      <td>0</td>\n",
       "      <td>1</td>\n",
       "      <td>0</td>\n",
       "      <td>4</td>\n",
       "    </tr>\n",
       "  </tbody>\n",
       "</table>\n",
       "</div>"
      ],
      "text/plain": [
       "    company_id        name category_code     status           founded_at  \\\n",
       "0            1    Wetpaint           web  operating  2005-10-17 00:00:00   \n",
       "3           10     Flektor   games_video   acquired                   -1   \n",
       "4          100       There   games_video   acquired                   -1   \n",
       "15       1,001  FriendFeed           web   acquired  2007-10-01 00:00:00   \n",
       "20      10,014     Mobclix        mobile   acquired  2008-03-01 00:00:00   \n",
       "\n",
       "   closed_at            domain network_username country_code  \\\n",
       "0         -1  wetpaint-inc.com  bachelrwetpaint          USA   \n",
       "3         -1       flektor.com              NaN          USA   \n",
       "4         -1         there.com              NaN          USA   \n",
       "15        -1    friendfeed.com       friendfeed          USA   \n",
       "20        -1       mobclix.com          mobclix          USA   \n",
       "\n",
       "    investment_rounds  funding_rounds  funding_total  milestones  \n",
       "0                   0               3     39,750,000           5  \n",
       "3                   0               0              0           0  \n",
       "4                   0               0              0           4  \n",
       "15                  0               1      5,000,000           3  \n",
       "20                  0               1              0           4  "
      ]
     },
     "execution_count": 49,
     "metadata": {},
     "output_type": "execute_result"
    }
   ],
   "source": [
    "df_sorted_company.head()"
   ]
  },
  {
   "cell_type": "code",
   "execution_count": 50,
   "id": "c3329f3d-794a-435c-a171-0daacb2f4e57",
   "metadata": {},
   "outputs": [
    {
     "name": "stdout",
     "output_type": "stream",
     "text": [
      "<class 'pandas.core.frame.DataFrame'>\n",
      "Int64Index: 40747 entries, 0 to 217469\n",
      "Data columns (total 13 columns):\n",
      " #   Column             Non-Null Count  Dtype  \n",
      "---  ------             --------------  -----  \n",
      " 0   company_id         40747 non-null  float64\n",
      " 1   name               40747 non-null  object \n",
      " 2   category_code      35315 non-null  object \n",
      " 3   status             40747 non-null  object \n",
      " 4   founded_at         40747 non-null  object \n",
      " 5   closed_at          40747 non-null  object \n",
      " 6   domain             40747 non-null  object \n",
      " 7   network_username   20850 non-null  object \n",
      " 8   country_code       40747 non-null  object \n",
      " 9   investment_rounds  40747 non-null  float64\n",
      " 10  funding_rounds     40747 non-null  float64\n",
      " 11  funding_total      40747 non-null  float64\n",
      " 12  milestones         40747 non-null  float64\n",
      "dtypes: float64(5), object(8)\n",
      "memory usage: 4.4+ MB\n"
     ]
    }
   ],
   "source": [
    "df_sorted_company.info()"
   ]
  },
  {
   "cell_type": "code",
   "execution_count": 51,
   "id": "7551d5ae-0dff-4500-ad47-3e06bf6ebdfb",
   "metadata": {},
   "outputs": [
    {
     "data": {
      "image/png": "[encoded data removed]",
      "text/plain": [
       "<Figure size 1080x432 with 1 Axes>"
      ]
     },
     "metadata": {
      "needs_background": "light"
     },
     "output_type": "display_data"
    }
   ],
   "source": [
    "plt.figure(figsize=(15, 6))\n",
    "sns.histplot(df_sorted_company['funding_total'], bins=100)\n",
    "plt.title('Распределение общего финансирования (funding_total)')\n",
    "plt.xlabel('Объём финансирования')\n",
    "plt.ylabel('Количество компаний')\n",
    "plt.xscale('log');"
   ]
  },
  {
   "cell_type": "code",
   "execution_count": 52,
   "id": "220c9ec0-2a98-40f7-971f-96540831360b",
   "metadata": {},
   "outputs": [
    {
     "data": {
      "image/png": "[encoded data removed]",
      "text/plain": [
       "<Figure size 1080x432 with 1 Axes>"
      ]
     },
     "metadata": {
      "needs_background": "light"
     },
     "output_type": "display_data"
    }
   ],
   "source": [
    "plt.figure(figsize=(15, 6))\n",
    "plt.boxplot(df_sorted_company['funding_total'], flierprops=dict(markerfacecolor='#ff7f0e', alpha = 0.6, marker='o'), vert = False);\n",
    "plt.xlabel('сумма финансирования')\n",
    "plt.xscale('log');"
   ]
  },
  {
   "cell_type": "code",
   "execution_count": 53,
   "id": "cf30e555-5a64-4c49-9522-b51e51576d41",
   "metadata": {},
   "outputs": [
    {
     "data": {
      "text/plain": [
       "count          40,747\n",
       "mean       10,135,610\n",
       "std        56,464,360\n",
       "min                 0\n",
       "25%                 0\n",
       "50%           600,000\n",
       "75%         5,650,650\n",
       "max     5,700,000,000\n",
       "Name: funding_total, dtype: float64"
      ]
     },
     "execution_count": 53,
     "metadata": {},
     "output_type": "execute_result"
    }
   ],
   "source": [
    "df_sorted_company['funding_total'].describe()"
   ]
  },
  {
   "cell_type": "markdown",
   "id": "ed3f37ee-b755-4281-8932-21c21d4990b6",
   "metadata": {},
   "source": [
    "Среднее (mean) в данном случе неприменимо, потому что:\n",
    "распределение сильно скошено вправо (из-за редких гигантских инвестиций(max 2,600,000,000);\n",
    "cтандартное отклонение больше среднего в 5 раз — признак перекоса;\n",
    "медиана (1 млн) — куда более надёжный показатель типичного значения. Типичный размер: между 400 тыс. и 6–7 млн — это интервал между 25% и 75% перцентилями (межквартильный интервал, IQR). \n",
    "\n",
    "Выбивающиеся значения:\n",
    "всё, что меньше 40 тыс. — неудачные или начальные проекты.\n",
    "всё, что больше ~20 млн — редкие случаи, скорее всего, зрелые или очень успешные компании."
   ]
  },
  {
   "cell_type": "code",
   "execution_count": 54,
   "id": "cfa7943a-2e67-41c2-bcc2-bffe894aa8af",
   "metadata": {},
   "outputs": [
    {
     "data": {
      "text/plain": [
       "1593"
      ]
     },
     "execution_count": 54,
     "metadata": {},
     "output_type": "execute_result"
    }
   ],
   "source": [
    "df_acquisition_sorted = df_acquisition[\n",
    "    (df_acquisition['price_amount'] == 0) | \n",
    "    (df_acquisition['price_amount'] == 1)\n",
    "]\n",
    "df_funded = df_sorted_company[df_sorted_company['funding_total'] > 0]\n",
    "df_not_null_company = df_acquisition_sorted.merge(\n",
    "    df_funded, left_on='acquired_company_id', right_on='company_id', how='inner'\n",
    ")\n",
    "df_not_null_company['company_id'].nunique()"
   ]
  },
  {
   "cell_type": "code",
   "execution_count": 55,
   "id": "95e6bb7d-b0de-422b-80f7-8be33cf00a0b",
   "metadata": {},
   "outputs": [
    {
     "name": "stdout",
     "output_type": "stream",
     "text": [
      "-18250000.0 35750000.0\n"
     ]
    }
   ],
   "source": [
    "Q1 = df_not_null_company['funding_total'].quantile(0.25) \n",
    "Q3 = df_not_null_company['funding_total'].quantile(0.75) \n",
    "IQR = Q3 - Q1\n",
    "lower_bound = Q1 - 1.5 * IQR\n",
    "upper_bound = Q3 + 1.5 * IQR\n",
    "print(lower_bound, upper_bound)"
   ]
  },
  {
   "cell_type": "code",
   "execution_count": 56,
   "id": "a900e6e2-217a-4d86-b7e3-f8c28d87c66d",
   "metadata": {},
   "outputs": [
    {
     "data": {
      "text/plain": [
       "count           1,618\n",
       "mean       18,152,962\n",
       "std       144,503,027\n",
       "min             3,750\n",
       "25%         2,000,000\n",
       "50%         6,000,000\n",
       "75%        15,500,000\n",
       "max     5,700,000,000\n",
       "Name: funding_total, dtype: float64"
      ]
     },
     "execution_count": 56,
     "metadata": {},
     "output_type": "execute_result"
    }
   ],
   "source": [
    "df_not_null_company['funding_total'].describe()"
   ]
  },
  {
   "cell_type": "code",
   "execution_count": 57,
   "id": "64a8bc5e-b77f-4127-95ac-29647a59c00c",
   "metadata": {},
   "outputs": [
    {
     "data": {
      "text/html": [
       "<div>\n",
       "<style scoped>\n",
       "    .dataframe tbody tr th:only-of-type {\n",
       "        vertical-align: middle;\n",
       "    }\n",
       "\n",
       "    .dataframe tbody tr th {\n",
       "        vertical-align: top;\n",
       "    }\n",
       "\n",
       "    .dataframe thead th {\n",
       "        text-align: right;\n",
       "    }\n",
       "</style>\n",
       "<table border=\"1\" class=\"dataframe\">\n",
       "  <thead>\n",
       "    <tr style=\"text-align: right;\">\n",
       "      <th></th>\n",
       "      <th>company_id</th>\n",
       "      <th>name</th>\n",
       "      <th>category_code</th>\n",
       "      <th>status</th>\n",
       "      <th>founded_at</th>\n",
       "      <th>closed_at</th>\n",
       "      <th>domain</th>\n",
       "      <th>network_username</th>\n",
       "      <th>country_code</th>\n",
       "      <th>investment_rounds</th>\n",
       "      <th>funding_rounds</th>\n",
       "      <th>funding_total</th>\n",
       "      <th>milestones</th>\n",
       "    </tr>\n",
       "  </thead>\n",
       "  <tbody>\n",
       "    <tr>\n",
       "      <th>0</th>\n",
       "      <td>1</td>\n",
       "      <td>Wetpaint</td>\n",
       "      <td>web</td>\n",
       "      <td>operating</td>\n",
       "      <td>2005-10-17 00:00:00</td>\n",
       "      <td>-1</td>\n",
       "      <td>wetpaint-inc.com</td>\n",
       "      <td>bachelrwetpaint</td>\n",
       "      <td>USA</td>\n",
       "      <td>0</td>\n",
       "      <td>3</td>\n",
       "      <td>39,750,000</td>\n",
       "      <td>5</td>\n",
       "    </tr>\n",
       "    <tr>\n",
       "      <th>3</th>\n",
       "      <td>10</td>\n",
       "      <td>Flektor</td>\n",
       "      <td>games_video</td>\n",
       "      <td>acquired</td>\n",
       "      <td>-1</td>\n",
       "      <td>-1</td>\n",
       "      <td>flektor.com</td>\n",
       "      <td>NaN</td>\n",
       "      <td>USA</td>\n",
       "      <td>0</td>\n",
       "      <td>0</td>\n",
       "      <td>0</td>\n",
       "      <td>0</td>\n",
       "    </tr>\n",
       "    <tr>\n",
       "      <th>4</th>\n",
       "      <td>100</td>\n",
       "      <td>There</td>\n",
       "      <td>games_video</td>\n",
       "      <td>acquired</td>\n",
       "      <td>-1</td>\n",
       "      <td>-1</td>\n",
       "      <td>there.com</td>\n",
       "      <td>NaN</td>\n",
       "      <td>USA</td>\n",
       "      <td>0</td>\n",
       "      <td>0</td>\n",
       "      <td>0</td>\n",
       "      <td>4</td>\n",
       "    </tr>\n",
       "    <tr>\n",
       "      <th>15</th>\n",
       "      <td>1,001</td>\n",
       "      <td>FriendFeed</td>\n",
       "      <td>web</td>\n",
       "      <td>acquired</td>\n",
       "      <td>2007-10-01 00:00:00</td>\n",
       "      <td>-1</td>\n",
       "      <td>friendfeed.com</td>\n",
       "      <td>friendfeed</td>\n",
       "      <td>USA</td>\n",
       "      <td>0</td>\n",
       "      <td>1</td>\n",
       "      <td>5,000,000</td>\n",
       "      <td>3</td>\n",
       "    </tr>\n",
       "    <tr>\n",
       "      <th>20</th>\n",
       "      <td>10,014</td>\n",
       "      <td>Mobclix</td>\n",
       "      <td>mobile</td>\n",
       "      <td>acquired</td>\n",
       "      <td>2008-03-01 00:00:00</td>\n",
       "      <td>-1</td>\n",
       "      <td>mobclix.com</td>\n",
       "      <td>mobclix</td>\n",
       "      <td>USA</td>\n",
       "      <td>0</td>\n",
       "      <td>1</td>\n",
       "      <td>0</td>\n",
       "      <td>4</td>\n",
       "    </tr>\n",
       "  </tbody>\n",
       "</table>\n",
       "</div>"
      ],
      "text/plain": [
       "    company_id        name category_code     status           founded_at  \\\n",
       "0            1    Wetpaint           web  operating  2005-10-17 00:00:00   \n",
       "3           10     Flektor   games_video   acquired                   -1   \n",
       "4          100       There   games_video   acquired                   -1   \n",
       "15       1,001  FriendFeed           web   acquired  2007-10-01 00:00:00   \n",
       "20      10,014     Mobclix        mobile   acquired  2008-03-01 00:00:00   \n",
       "\n",
       "   closed_at            domain network_username country_code  \\\n",
       "0         -1  wetpaint-inc.com  bachelrwetpaint          USA   \n",
       "3         -1       flektor.com              NaN          USA   \n",
       "4         -1         there.com              NaN          USA   \n",
       "15        -1    friendfeed.com       friendfeed          USA   \n",
       "20        -1       mobclix.com          mobclix          USA   \n",
       "\n",
       "    investment_rounds  funding_rounds  funding_total  milestones  \n",
       "0                   0               3     39,750,000           5  \n",
       "3                   0               0              0           0  \n",
       "4                   0               0              0           4  \n",
       "15                  0               1      5,000,000           3  \n",
       "20                  0               1              0           4  "
      ]
     },
     "execution_count": 57,
     "metadata": {},
     "output_type": "execute_result"
    }
   ],
   "source": [
    "df_sorted_company.head()"
   ]
  },
  {
   "cell_type": "code",
   "execution_count": 58,
   "id": "901c7ac1-b12f-4cd8-94e4-e11da06605a7",
   "metadata": {},
   "outputs": [
    {
     "name": "stdout",
     "output_type": "stream",
     "text": [
      "               median_price       std_price  count\n",
      "category_code                                     \n",
      "manufacturing      72000000     969,657,968     29\n",
      "biotech            13200000   1,540,373,521    454\n",
      "hospitality        12500000     651,449,441     11\n",
      "finance              600000     796,098,476     40\n",
      "enterprise                0 128,088,235,060    412\n"
     ]
    },
    {
     "data": {
      "image/png": "[encoded data removed]",
      "text/plain": [
       "<Figure size 720x432 with 1 Axes>"
      ]
     },
     "metadata": {
      "needs_background": "light"
     },
     "output_type": "display_data"
    }
   ],
   "source": [
    "df_acquired = df_acquisition.merge(\n",
    "    df_sorted_company[['company_id', 'category_code']],\n",
    "    left_on='acquired_company_id',\n",
    "    right_on='company_id',\n",
    "    how='inner'\n",
    ")\n",
    "\n",
    "grouped_cleaned = df_acquired.groupby('category_code')['price_amount'].agg(\n",
    "    median_price='median',\n",
    "    std_price='std',\n",
    "    count='count'\n",
    ").dropna()\n",
    "\n",
    "grouped_cleaned = grouped_cleaned[grouped_cleaned['count'] >= 10]\n",
    "grouped_cleaned = grouped_cleaned[~grouped_cleaned.index.isin(['-1', None, '', np.nan])]\n",
    "\n",
    "top_categories = grouped_cleaned.sort_values(\n",
    "    by=['median_price', 'std_price'],\n",
    "    ascending=False\n",
    ").head(5)\n",
    "\n",
    "print(top_categories)\n",
    "\n",
    "plt.figure(figsize=(10, 6))\n",
    "plt.bar(\n",
    "    x=top_categories.index,\n",
    "    height=top_categories['median_price'],\n",
    "    yerr=top_categories['std_price'],\n",
    "    color= '#ff7f0e'\n",
    ")\n",
    "\n",
    "plt.title('Топ-5 категорий по медианной цене покупки стартапов')\n",
    "plt.ylabel('Цена сделки ($)')\n",
    "plt.xlabel('Категория')\n",
    "plt.xticks(rotation=45)\n",
    "plt.yscale('log')\n",
    "plt.tight_layout()\n",
    "plt.show()"
   ]
  },
  {
   "cell_type": "markdown",
   "id": "52422694-bbfd-48f7-ac23-ead81b070cf8",
   "metadata": {},
   "source": [
    "Анализ медианных цен сделок по приобретению стартапов в разных категориях показал следующие результаты:\n",
    "Самая высокая медианная цена наблюдается в категории biotech — $178,5 млн, что говорит о высокой инвестиционной привлекательности и ценности биотехнологических компаний. Категории finance и semiconductor также показывают значительные медианные значения — $75 млн и $64,4 млн соответственно, несмотря на высокую дисперсию цен сделок, что может свидетельствовать о разнообразии компаний в этих отраслях. В то же время категории public_relations и security демонстрируют медианную цену, равную нулю, несмотря на большое количество сделок (62 и 40 соответственно), что может указывать либо на большое число сделок с неизвестной или нулевой суммой, либо на то, что большинство таких сделок были немонетарными или по номинальной цене. Таким образом, наибольшую ценность для приобретения представляют стартапы в области биотехнологий, финансов и полупроводников, в то время как категории с нулевой медианной ценой требуют дополнительного анализа качества и структуры сделок."
   ]
  },
  {
   "cell_type": "code",
   "execution_count": 59,
   "id": "aaeae14c-6744-43fc-a219-5d711cd02fab",
   "metadata": {},
   "outputs": [
    {
     "name": "stdout",
     "output_type": "stream",
     "text": [
      "status\n",
      "acquired    0\n",
      "closed      1\n",
      "ipo         1\n",
      "operating   1\n",
      "Name: funding_rounds, dtype: float64\n",
      "status\n",
      "acquired    1\n",
      "closed      1\n",
      "ipo         2\n",
      "operating   2\n",
      "Name: funding_rounds, dtype: float64\n"
     ]
    }
   ],
   "source": [
    "df_filtered_rounds = df_sorted_company[df_sorted_company['funding_rounds'] != -1]\n",
    "median_by_status = df_filtered_rounds.groupby('status')['funding_rounds'].median()\n",
    "print(median_by_status)\n",
    "\n",
    "mean_by_status = df_filtered_rounds.groupby('status')['funding_rounds'].mean()\n",
    "print(mean_by_status)"
   ]
  },
  {
   "cell_type": "markdown",
   "id": "b0ab050e-7509-49b5-8c45-8a83499085d7",
   "metadata": {},
   "source": [
    "Анализ показал, что медианное количество раундов финансирования составляет 1 для всех групп стартапов, что указывает на то, что большинство компаний получают только один раунд инвестиций. Однако средние значения различаются: компании со статусами IPO и operating в среднем проходят 2 раунда, в то время как acquired и closed — только 1. Это говорит о том, что более успешные или действующие стартапы чаще проходят через большее число этапов финансирования. Таким образом, можно сделать вывод, что большее количество раундов связано с успешным развитием компании, в то время как у компаний, завершивших деятельность или проданных, инвестиционная активность была ограниченной."
   ]
  },
  {
   "cell_type": "code",
   "execution_count": 60,
   "id": "c8ff21a2-c389-4417-b354-843502d7d485",
   "metadata": {},
   "outputs": [],
   "source": [
    "## Итоговый вывод и рекомендации"
   ]
  },
  {
   "cell_type": "markdown",
   "id": "0b0950c5-882a-440a-b021-ad2e06281536",
   "metadata": {},
   "source": [
    "Принятые решения и выводы\n",
    "1. Объединение таблиц\n",
    "Основные ключи:\n",
    "company_id — для объединения информации о компаниях и их инвестициях;\n",
    "person_id / id — для объединения информации о сотрудниках и их образовании;\n",
    "acquired_company_id — для соединения с данными о покупках.\n",
    "При объединении удалялись дубликаты, проверялись пропуски, переименовывались дублирующиеся колонки.\n",
    "\n",
    "2. Можно ли доверять данным о сотрудниках и образовании\n",
    "Данные неполные: доля сотрудников без указания образования велика.\n",
    "Особенно это касается маленьких компаний (1–3 сотрудника), где такие данные часто не указаны.\n",
    "Это типично для стартапов, где не всегда ведётся полная HR-отчётность. Поэтому: данные частично достоверны, но могут не отражать всей картины.\n",
    "\n",
    "3. Что означают покупки за $0 или $1\n",
    "Обнаружены случаи, когда компании с миллионами долларов инвестиций были куплены за символическую сумму.\n",
    "Возможные причины:\n",
    "бизнес-модель не сработала;\n",
    "покупка ради команды или технологий;\n",
    "банкротство;\n",
    "внутрикорпоративные сделки.\n",
    "Это выбросы, но они бизнесово осмыслены.\n",
    "\n",
    "4. Анализ цен в зависимости от категории и инвестиций\n",
    "Категории с самыми высокими ценами покупки (медиана и разброс): biotech, finance, semiconductor.\n",
    "Обнаружено, что категории с высокой ценой часто имеют и высокое финансирование до покупки.\n",
    "Таким образом: категория и объём раундов — потенциальные признаки успешной сделки.\n",
    "\n",
    "5. Динамика и типичные значения\n",
    "По годам построены сводные таблицы и графики:\n",
    "типичный объём инвестиций (median raised_amount);\n",
    "количество раундов.\n",
    "В 2013 году: максимум по числу сделок, но типичный размер раунда снизился — возможно, инвесторы стали осторожнее.\n",
    "Пик медианного объёма раунда — в 2005 году ($5.5 млн).\n",
    "\n",
    "Категория бизнеса и количество раундов — важные факторы, влияющие на цену покупки. Компании с финансированием, но низкой ценой покупки — потенциальные ошибки стратегий или особенности рынка. Данные об образовании стоит интерпретировать осторожно, особенно в маленьких командах.\n",
    "Временная динамика отражает изменения стратегии инвесторов: от крупных сделок к более массовым, но дешёвым."
   ]
  }
 ],
 "metadata": {
  "ExecuteTimeLog": [
   {
    "duration": 1233,
    "start_time": "2025-06-25T13:24:38.967Z"
   },
   {
    "duration": 0,
    "start_time": "2025-06-25T13:24:40.202Z"
   },
   {
    "duration": 0,
    "start_time": "2025-06-25T13:24:40.203Z"
   },
   {
    "duration": 0,
    "start_time": "2025-06-25T13:24:40.204Z"
   },
   {
    "duration": 0,
    "start_time": "2025-06-25T13:24:40.205Z"
   },
   {
    "duration": 0,
    "start_time": "2025-06-25T13:24:40.206Z"
   },
   {
    "duration": 0,
    "start_time": "2025-06-25T13:24:40.207Z"
   },
   {
    "duration": 0,
    "start_time": "2025-06-25T13:24:40.208Z"
   },
   {
    "duration": 0,
    "start_time": "2025-06-25T13:24:40.209Z"
   },
   {
    "duration": 0,
    "start_time": "2025-06-25T13:24:40.210Z"
   },
   {
    "duration": 0,
    "start_time": "2025-06-25T13:24:40.211Z"
   },
   {
    "duration": 0,
    "start_time": "2025-06-25T13:24:40.211Z"
   },
   {
    "duration": 0,
    "start_time": "2025-06-25T13:24:40.212Z"
   },
   {
    "duration": 0,
    "start_time": "2025-06-25T13:24:40.213Z"
   },
   {
    "duration": 0,
    "start_time": "2025-06-25T13:24:40.214Z"
   },
   {
    "duration": 0,
    "start_time": "2025-06-25T13:24:40.215Z"
   },
   {
    "duration": 0,
    "start_time": "2025-06-25T13:24:40.217Z"
   },
   {
    "duration": 0,
    "start_time": "2025-06-25T13:24:40.218Z"
   },
   {
    "duration": 0,
    "start_time": "2025-06-25T13:24:40.219Z"
   },
   {
    "duration": 0,
    "start_time": "2025-06-25T13:24:40.220Z"
   },
   {
    "duration": 0,
    "start_time": "2025-06-25T13:24:40.221Z"
   },
   {
    "duration": 0,
    "start_time": "2025-06-25T13:24:40.222Z"
   },
   {
    "duration": 0,
    "start_time": "2025-06-25T13:24:40.222Z"
   },
   {
    "duration": 0,
    "start_time": "2025-06-25T13:24:40.262Z"
   },
   {
    "duration": 0,
    "start_time": "2025-06-25T13:24:40.263Z"
   },
   {
    "duration": 0,
    "start_time": "2025-06-25T13:24:40.264Z"
   },
   {
    "duration": 0,
    "start_time": "2025-06-25T13:24:40.265Z"
   },
   {
    "duration": 0,
    "start_time": "2025-06-25T13:24:40.266Z"
   },
   {
    "duration": 0,
    "start_time": "2025-06-25T13:24:40.267Z"
   },
   {
    "duration": 0,
    "start_time": "2025-06-25T13:24:40.268Z"
   },
   {
    "duration": 0,
    "start_time": "2025-06-25T13:24:40.269Z"
   },
   {
    "duration": 0,
    "start_time": "2025-06-25T13:24:40.270Z"
   },
   {
    "duration": 0,
    "start_time": "2025-06-25T13:24:40.271Z"
   },
   {
    "duration": 0,
    "start_time": "2025-06-25T13:24:40.272Z"
   },
   {
    "duration": 0,
    "start_time": "2025-06-25T13:24:40.273Z"
   },
   {
    "duration": 0,
    "start_time": "2025-06-25T13:24:40.273Z"
   },
   {
    "duration": 0,
    "start_time": "2025-06-25T13:24:40.274Z"
   },
   {
    "duration": 0,
    "start_time": "2025-06-25T13:24:40.275Z"
   },
   {
    "duration": 0,
    "start_time": "2025-06-25T13:24:40.276Z"
   },
   {
    "duration": 0,
    "start_time": "2025-06-25T13:24:40.277Z"
   },
   {
    "duration": 0,
    "start_time": "2025-06-25T13:24:40.278Z"
   },
   {
    "duration": 0,
    "start_time": "2025-06-25T13:24:40.279Z"
   },
   {
    "duration": 0,
    "start_time": "2025-06-25T13:24:40.280Z"
   },
   {
    "duration": 0,
    "start_time": "2025-06-25T13:24:40.281Z"
   },
   {
    "duration": 0,
    "start_time": "2025-06-25T13:24:40.282Z"
   },
   {
    "duration": 0,
    "start_time": "2025-06-25T13:24:40.282Z"
   },
   {
    "duration": 0,
    "start_time": "2025-06-25T13:24:40.283Z"
   },
   {
    "duration": 0,
    "start_time": "2025-06-25T13:24:40.284Z"
   },
   {
    "duration": 0,
    "start_time": "2025-06-25T13:24:40.285Z"
   },
   {
    "duration": 0,
    "start_time": "2025-06-25T13:24:40.286Z"
   },
   {
    "duration": 1227,
    "start_time": "2025-06-25T13:24:56.973Z"
   },
   {
    "duration": 2505,
    "start_time": "2025-06-25T13:24:58.202Z"
   },
   {
    "duration": 11,
    "start_time": "2025-06-25T13:25:00.709Z"
   },
   {
    "duration": 40,
    "start_time": "2025-06-25T13:25:00.722Z"
   },
   {
    "duration": 72,
    "start_time": "2025-06-25T13:25:00.764Z"
   },
   {
    "duration": 16,
    "start_time": "2025-06-25T13:25:00.837Z"
   },
   {
    "duration": 79,
    "start_time": "2025-06-25T13:25:00.855Z"
   },
   {
    "duration": 99,
    "start_time": "2025-06-25T13:25:00.936Z"
   },
   {
    "duration": 9,
    "start_time": "2025-06-25T13:25:01.037Z"
   },
   {
    "duration": 51,
    "start_time": "2025-06-25T13:25:01.049Z"
   },
   {
    "duration": 14,
    "start_time": "2025-06-25T13:25:01.102Z"
   },
   {
    "duration": 56,
    "start_time": "2025-06-25T13:25:01.118Z"
   },
   {
    "duration": 40,
    "start_time": "2025-06-25T13:25:01.176Z"
   },
   {
    "duration": 53,
    "start_time": "2025-06-25T13:25:01.218Z"
   },
   {
    "duration": 37,
    "start_time": "2025-06-25T13:25:01.273Z"
   },
   {
    "duration": 30,
    "start_time": "2025-06-25T13:25:01.312Z"
   },
   {
    "duration": 109,
    "start_time": "2025-06-25T13:25:01.343Z"
   },
   {
    "duration": 61,
    "start_time": "2025-06-25T13:25:01.454Z"
   },
   {
    "duration": 139,
    "start_time": "2025-06-25T13:25:01.516Z"
   },
   {
    "duration": 90,
    "start_time": "2025-06-25T13:25:01.657Z"
   },
   {
    "duration": 266,
    "start_time": "2025-06-25T13:25:01.748Z"
   },
   {
    "duration": 39,
    "start_time": "2025-06-25T13:25:02.015Z"
   },
   {
    "duration": 38,
    "start_time": "2025-06-25T13:25:02.061Z"
   },
   {
    "duration": 21,
    "start_time": "2025-06-25T13:25:02.100Z"
   },
   {
    "duration": 15,
    "start_time": "2025-06-25T13:25:02.123Z"
   },
   {
    "duration": 83,
    "start_time": "2025-06-25T13:25:02.140Z"
   },
   {
    "duration": 31,
    "start_time": "2025-06-25T13:25:02.225Z"
   },
   {
    "duration": 46,
    "start_time": "2025-06-25T13:25:02.259Z"
   },
   {
    "duration": 50,
    "start_time": "2025-06-25T13:25:02.306Z"
   },
   {
    "duration": 5,
    "start_time": "2025-06-25T13:25:02.358Z"
   },
   {
    "duration": 254,
    "start_time": "2025-06-25T13:25:02.365Z"
   },
   {
    "duration": 2,
    "start_time": "2025-06-25T13:25:02.622Z"
   },
   {
    "duration": 27,
    "start_time": "2025-06-25T13:25:02.625Z"
   },
   {
    "duration": 95,
    "start_time": "2025-06-25T13:25:02.653Z"
   },
   {
    "duration": 114,
    "start_time": "2025-06-25T13:25:02.750Z"
   },
   {
    "duration": 160,
    "start_time": "2025-06-25T13:25:02.866Z"
   },
   {
    "duration": 125,
    "start_time": "2025-06-25T13:25:03.029Z"
   },
   {
    "duration": 29,
    "start_time": "2025-06-25T13:25:03.155Z"
   },
   {
    "duration": 125,
    "start_time": "2025-06-25T13:25:03.186Z"
   },
   {
    "duration": 253,
    "start_time": "2025-06-25T13:25:03.313Z"
   },
   {
    "duration": 3,
    "start_time": "2025-06-25T13:25:03.567Z"
   },
   {
    "duration": 335,
    "start_time": "2025-06-25T13:25:03.572Z"
   },
   {
    "duration": 38,
    "start_time": "2025-06-25T13:25:03.909Z"
   },
   {
    "duration": 3,
    "start_time": "2025-06-25T13:25:03.961Z"
   },
   {
    "duration": 57,
    "start_time": "2025-06-25T13:25:03.966Z"
   },
   {
    "duration": 35,
    "start_time": "2025-06-25T13:25:04.025Z"
   },
   {
    "duration": 43,
    "start_time": "2025-06-25T13:25:04.062Z"
   },
   {
    "duration": 141,
    "start_time": "2025-06-25T13:25:04.107Z"
   },
   {
    "duration": 53,
    "start_time": "2025-06-25T13:25:04.250Z"
   },
   {
    "duration": 22915,
    "start_time": "2025-06-25T13:25:04.305Z"
   },
   {
    "duration": 26,
    "start_time": "2025-06-25T13:26:21.693Z"
   },
   {
    "duration": 6,
    "start_time": "2025-06-25T13:26:23.543Z"
   },
   {
    "duration": 164,
    "start_time": "2025-06-25T13:26:24.682Z"
   },
   {
    "duration": 27,
    "start_time": "2025-06-25T13:26:30.998Z"
   },
   {
    "duration": 6,
    "start_time": "2025-06-25T13:26:32.770Z"
   },
   {
    "duration": 183,
    "start_time": "2025-06-25T13:26:33.448Z"
   },
   {
    "duration": 1192,
    "start_time": "2025-06-30T17:44:18.991Z"
   },
   {
    "duration": 1985,
    "start_time": "2025-06-30T17:44:20.185Z"
   },
   {
    "duration": 12,
    "start_time": "2025-06-30T17:44:22.171Z"
   },
   {
    "duration": 11,
    "start_time": "2025-06-30T17:44:22.184Z"
   },
   {
    "duration": 41,
    "start_time": "2025-06-30T17:44:22.197Z"
   },
   {
    "duration": 4,
    "start_time": "2025-06-30T17:44:22.242Z"
   },
   {
    "duration": 45,
    "start_time": "2025-06-30T17:44:22.255Z"
   },
   {
    "duration": 113,
    "start_time": "2025-06-30T17:44:22.302Z"
   },
   {
    "duration": 9,
    "start_time": "2025-06-30T17:44:22.417Z"
   },
   {
    "duration": 53,
    "start_time": "2025-06-30T17:44:22.437Z"
   },
   {
    "duration": 7,
    "start_time": "2025-06-30T17:44:22.492Z"
   },
   {
    "duration": 54,
    "start_time": "2025-06-30T17:44:22.501Z"
   },
   {
    "duration": 9,
    "start_time": "2025-06-30T17:44:22.561Z"
   },
   {
    "duration": 30,
    "start_time": "2025-06-30T17:44:22.573Z"
   },
   {
    "duration": 9,
    "start_time": "2025-06-30T17:44:22.604Z"
   },
   {
    "duration": 7,
    "start_time": "2025-06-30T17:44:22.614Z"
   },
   {
    "duration": 10,
    "start_time": "2025-06-30T17:44:22.623Z"
   },
   {
    "duration": 18,
    "start_time": "2025-06-30T17:44:22.635Z"
   },
   {
    "duration": 117,
    "start_time": "2025-06-30T17:44:22.655Z"
   },
   {
    "duration": 107,
    "start_time": "2025-06-30T17:44:22.773Z"
   },
   {
    "duration": 124,
    "start_time": "2025-06-30T17:44:22.882Z"
   },
   {
    "duration": 39,
    "start_time": "2025-06-30T17:44:23.008Z"
   },
   {
    "duration": 55,
    "start_time": "2025-06-30T17:44:23.048Z"
   },
   {
    "duration": 16,
    "start_time": "2025-06-30T17:44:23.105Z"
   },
   {
    "duration": 32,
    "start_time": "2025-06-30T17:44:23.135Z"
   },
   {
    "duration": 26,
    "start_time": "2025-06-30T17:44:23.169Z"
   },
   {
    "duration": 66,
    "start_time": "2025-06-30T17:44:23.197Z"
   },
   {
    "duration": 19,
    "start_time": "2025-06-30T17:44:23.266Z"
   },
   {
    "duration": 142,
    "start_time": "2025-06-30T17:44:23.287Z"
   },
   {
    "duration": 8,
    "start_time": "2025-06-30T17:44:23.431Z"
   },
   {
    "duration": 184,
    "start_time": "2025-06-30T17:44:23.441Z"
   },
   {
    "duration": 15,
    "start_time": "2025-06-30T17:44:23.635Z"
   },
   {
    "duration": 251,
    "start_time": "2025-06-30T17:44:23.651Z"
   },
   {
    "duration": 16,
    "start_time": "2025-06-30T17:44:23.903Z"
   },
   {
    "duration": 689,
    "start_time": "2025-06-30T17:44:23.920Z"
   },
   {
    "duration": 12,
    "start_time": "2025-06-30T17:44:24.611Z"
   },
   {
    "duration": 19,
    "start_time": "2025-06-30T17:44:24.644Z"
   },
   {
    "duration": 335,
    "start_time": "2025-06-30T17:44:24.665Z"
   },
   {
    "duration": 341,
    "start_time": "2025-06-30T17:44:25.001Z"
   },
   {
    "duration": 46,
    "start_time": "2025-06-30T17:44:25.353Z"
   },
   {
    "duration": 65,
    "start_time": "2025-06-30T17:44:25.403Z"
   },
   {
    "duration": 174,
    "start_time": "2025-06-30T17:44:25.470Z"
   },
   {
    "duration": 44,
    "start_time": "2025-06-30T17:44:25.649Z"
   },
   {
    "duration": 209,
    "start_time": "2025-06-30T17:44:25.695Z"
   },
   {
    "duration": 311,
    "start_time": "2025-06-30T17:44:25.905Z"
   },
   {
    "duration": 37,
    "start_time": "2025-06-30T17:44:26.218Z"
   },
   {
    "duration": 40,
    "start_time": "2025-06-30T17:44:26.265Z"
   },
   {
    "duration": 107,
    "start_time": "2025-06-30T17:44:26.307Z"
   },
   {
    "duration": 12,
    "start_time": "2025-06-30T17:44:26.416Z"
   },
   {
    "duration": 43,
    "start_time": "2025-06-30T17:44:26.429Z"
   },
   {
    "duration": 590,
    "start_time": "2025-06-30T17:44:26.473Z"
   },
   {
    "duration": 403,
    "start_time": "2025-06-30T17:44:27.067Z"
   },
   {
    "duration": 9,
    "start_time": "2025-06-30T17:44:27.472Z"
   },
   {
    "duration": 17,
    "start_time": "2025-06-30T17:44:27.483Z"
   },
   {
    "duration": 55,
    "start_time": "2025-06-30T17:44:27.501Z"
   },
   {
    "duration": 20,
    "start_time": "2025-06-30T17:44:27.558Z"
   },
   {
    "duration": 21,
    "start_time": "2025-06-30T17:44:27.579Z"
   },
   {
    "duration": 559,
    "start_time": "2025-06-30T17:44:27.602Z"
   },
   {
    "duration": 18,
    "start_time": "2025-06-30T17:44:28.162Z"
   },
   {
    "duration": 3,
    "start_time": "2025-06-30T17:44:28.181Z"
   },
   {
    "duration": 17,
    "start_time": "2025-06-30T17:46:58.720Z"
   },
   {
    "duration": 1224,
    "start_time": "2025-06-30T17:47:30.892Z"
   },
   {
    "duration": 2142,
    "start_time": "2025-06-30T17:47:32.118Z"
   },
   {
    "duration": 15,
    "start_time": "2025-06-30T17:47:34.267Z"
   },
   {
    "duration": 109,
    "start_time": "2025-06-30T17:47:34.284Z"
   },
   {
    "duration": 31,
    "start_time": "2025-06-30T17:47:34.396Z"
   },
   {
    "duration": 28,
    "start_time": "2025-06-30T17:47:34.429Z"
   },
   {
    "duration": 46,
    "start_time": "2025-06-30T17:47:34.464Z"
   },
   {
    "duration": 119,
    "start_time": "2025-06-30T17:47:34.512Z"
   },
   {
    "duration": 20,
    "start_time": "2025-06-30T17:47:34.646Z"
   },
   {
    "duration": 155,
    "start_time": "2025-06-30T17:47:34.670Z"
   },
   {
    "duration": 15,
    "start_time": "2025-06-30T17:47:34.827Z"
   },
   {
    "duration": 39,
    "start_time": "2025-06-30T17:47:34.850Z"
   },
   {
    "duration": 7,
    "start_time": "2025-06-30T17:47:34.891Z"
   },
   {
    "duration": 19,
    "start_time": "2025-06-30T17:47:34.901Z"
   },
   {
    "duration": 8,
    "start_time": "2025-06-30T17:47:34.922Z"
   },
   {
    "duration": 16,
    "start_time": "2025-06-30T17:47:34.932Z"
   },
   {
    "duration": 34,
    "start_time": "2025-06-30T17:47:34.949Z"
   },
   {
    "duration": 16,
    "start_time": "2025-06-30T17:47:34.985Z"
   },
   {
    "duration": 113,
    "start_time": "2025-06-30T17:47:35.003Z"
   },
   {
    "duration": 112,
    "start_time": "2025-06-30T17:47:35.119Z"
   },
   {
    "duration": 150,
    "start_time": "2025-06-30T17:47:35.233Z"
   },
   {
    "duration": 57,
    "start_time": "2025-06-30T17:47:35.385Z"
   },
   {
    "duration": 49,
    "start_time": "2025-06-30T17:47:35.447Z"
   },
   {
    "duration": 93,
    "start_time": "2025-06-30T17:47:35.498Z"
   },
   {
    "duration": 21,
    "start_time": "2025-06-30T17:47:35.593Z"
   },
   {
    "duration": 71,
    "start_time": "2025-06-30T17:47:35.615Z"
   },
   {
    "duration": 233,
    "start_time": "2025-06-30T17:47:35.688Z"
   },
   {
    "duration": 54,
    "start_time": "2025-06-30T17:47:35.923Z"
   },
   {
    "duration": 44,
    "start_time": "2025-06-30T17:47:35.979Z"
   },
   {
    "duration": 6,
    "start_time": "2025-06-30T17:47:36.024Z"
   },
   {
    "duration": 235,
    "start_time": "2025-06-30T17:47:36.031Z"
   },
   {
    "duration": 11,
    "start_time": "2025-06-30T17:47:36.271Z"
   },
   {
    "duration": 143,
    "start_time": "2025-06-30T17:47:36.284Z"
   },
   {
    "duration": 26,
    "start_time": "2025-06-30T17:47:36.429Z"
   },
   {
    "duration": 669,
    "start_time": "2025-06-30T17:47:36.456Z"
   },
   {
    "duration": 34,
    "start_time": "2025-06-30T17:47:37.127Z"
   },
   {
    "duration": 26,
    "start_time": "2025-06-30T17:47:37.163Z"
   },
   {
    "duration": 277,
    "start_time": "2025-06-30T17:47:37.190Z"
   },
   {
    "duration": 406,
    "start_time": "2025-06-30T17:47:37.480Z"
   },
   {
    "duration": 40,
    "start_time": "2025-06-30T17:47:37.888Z"
   },
   {
    "duration": 26,
    "start_time": "2025-06-30T17:47:37.937Z"
   },
   {
    "duration": 410,
    "start_time": "2025-06-30T17:47:37.964Z"
   },
   {
    "duration": 93,
    "start_time": "2025-06-30T17:47:38.376Z"
   },
   {
    "duration": 58,
    "start_time": "2025-06-30T17:47:38.476Z"
   },
   {
    "duration": 582,
    "start_time": "2025-06-30T17:47:38.535Z"
   },
   {
    "duration": 10,
    "start_time": "2025-06-30T17:47:39.119Z"
   },
   {
    "duration": 105,
    "start_time": "2025-06-30T17:47:39.139Z"
   },
   {
    "duration": 76,
    "start_time": "2025-06-30T17:47:39.250Z"
   },
   {
    "duration": 30,
    "start_time": "2025-06-30T17:47:39.328Z"
   },
   {
    "duration": 50,
    "start_time": "2025-06-30T17:47:39.369Z"
   },
   {
    "duration": 593,
    "start_time": "2025-06-30T17:47:39.421Z"
   },
   {
    "duration": 476,
    "start_time": "2025-06-30T17:47:40.016Z"
   },
   {
    "duration": 9,
    "start_time": "2025-06-30T17:47:40.493Z"
   },
   {
    "duration": 63,
    "start_time": "2025-06-30T17:47:40.504Z"
   },
   {
    "duration": 9,
    "start_time": "2025-06-30T17:47:40.572Z"
   },
   {
    "duration": 10,
    "start_time": "2025-06-30T17:47:40.583Z"
   },
   {
    "duration": 19,
    "start_time": "2025-06-30T17:47:40.595Z"
   },
   {
    "duration": 704,
    "start_time": "2025-06-30T17:47:40.616Z"
   },
   {
    "duration": 31,
    "start_time": "2025-06-30T17:47:41.322Z"
   },
   {
    "duration": 44,
    "start_time": "2025-06-30T17:47:41.355Z"
   },
   {
    "duration": 1198,
    "start_time": "2025-06-30T17:50:38.870Z"
   },
   {
    "duration": 3292,
    "start_time": "2025-06-30T17:50:40.070Z"
   },
   {
    "duration": 12,
    "start_time": "2025-06-30T17:50:43.364Z"
   },
   {
    "duration": 26,
    "start_time": "2025-06-30T17:50:43.377Z"
   },
   {
    "duration": 23,
    "start_time": "2025-06-30T17:50:43.405Z"
   },
   {
    "duration": 19,
    "start_time": "2025-06-30T17:50:43.430Z"
   },
   {
    "duration": 45,
    "start_time": "2025-06-30T17:50:43.458Z"
   },
   {
    "duration": 112,
    "start_time": "2025-06-30T17:50:43.504Z"
   },
   {
    "duration": 8,
    "start_time": "2025-06-30T17:50:43.617Z"
   },
   {
    "duration": 70,
    "start_time": "2025-06-30T17:50:43.627Z"
   },
   {
    "duration": 8,
    "start_time": "2025-06-30T17:50:43.699Z"
   },
   {
    "duration": 152,
    "start_time": "2025-06-30T17:50:43.708Z"
   },
   {
    "duration": 34,
    "start_time": "2025-06-30T17:50:43.862Z"
   },
   {
    "duration": 21,
    "start_time": "2025-06-30T17:50:43.898Z"
   },
   {
    "duration": 7,
    "start_time": "2025-06-30T17:50:43.921Z"
   },
   {
    "duration": 16,
    "start_time": "2025-06-30T17:50:43.930Z"
   },
   {
    "duration": 15,
    "start_time": "2025-06-30T17:50:43.954Z"
   },
   {
    "duration": 18,
    "start_time": "2025-06-30T17:50:43.970Z"
   },
   {
    "duration": 104,
    "start_time": "2025-06-30T17:50:43.990Z"
   },
   {
    "duration": 145,
    "start_time": "2025-06-30T17:50:44.096Z"
   },
   {
    "duration": 157,
    "start_time": "2025-06-30T17:50:44.242Z"
   },
   {
    "duration": 58,
    "start_time": "2025-06-30T17:50:44.400Z"
   },
   {
    "duration": 37,
    "start_time": "2025-06-30T17:50:44.459Z"
   },
   {
    "duration": 15,
    "start_time": "2025-06-30T17:50:44.498Z"
   },
   {
    "duration": 27,
    "start_time": "2025-06-30T17:50:44.515Z"
   },
   {
    "duration": 26,
    "start_time": "2025-06-30T17:50:44.550Z"
   },
   {
    "duration": 34,
    "start_time": "2025-06-30T17:50:44.578Z"
   },
   {
    "duration": 32,
    "start_time": "2025-06-30T17:50:44.614Z"
   },
   {
    "duration": 41,
    "start_time": "2025-06-30T17:50:44.652Z"
   },
   {
    "duration": 5,
    "start_time": "2025-06-30T17:50:44.695Z"
   },
   {
    "duration": 276,
    "start_time": "2025-06-30T17:50:44.702Z"
   },
   {
    "duration": 9,
    "start_time": "2025-06-30T17:50:44.980Z"
   },
   {
    "duration": 60,
    "start_time": "2025-06-30T17:50:44.991Z"
   },
   {
    "duration": 21,
    "start_time": "2025-06-30T17:50:45.053Z"
   },
   {
    "duration": 713,
    "start_time": "2025-06-30T17:50:45.076Z"
   },
   {
    "duration": 12,
    "start_time": "2025-06-30T17:50:45.791Z"
   },
   {
    "duration": 110,
    "start_time": "2025-06-30T17:50:45.805Z"
   },
   {
    "duration": 264,
    "start_time": "2025-06-30T17:50:45.917Z"
   },
   {
    "duration": 512,
    "start_time": "2025-06-30T17:50:46.182Z"
   },
   {
    "duration": 82,
    "start_time": "2025-06-30T17:50:46.696Z"
   },
   {
    "duration": 74,
    "start_time": "2025-06-30T17:50:46.782Z"
   },
   {
    "duration": 1015,
    "start_time": "2025-06-30T17:50:46.857Z"
   },
   {
    "duration": 201,
    "start_time": "2025-06-30T17:50:47.876Z"
   },
   {
    "duration": 193,
    "start_time": "2025-06-30T17:50:48.079Z"
   },
   {
    "duration": 1596,
    "start_time": "2025-06-30T17:50:48.276Z"
   },
   {
    "duration": 10,
    "start_time": "2025-06-30T17:50:49.876Z"
   },
   {
    "duration": 279,
    "start_time": "2025-06-30T17:50:49.887Z"
   },
   {
    "duration": 170,
    "start_time": "2025-06-30T17:50:50.170Z"
   },
   {
    "duration": 21,
    "start_time": "2025-06-30T17:50:50.342Z"
   },
   {
    "duration": 119,
    "start_time": "2025-06-30T17:50:50.365Z"
   },
   {
    "duration": 680,
    "start_time": "2025-06-30T17:50:50.486Z"
   },
   {
    "duration": 602,
    "start_time": "2025-06-30T17:50:51.170Z"
   },
   {
    "duration": 10,
    "start_time": "2025-06-30T17:50:51.773Z"
   },
   {
    "duration": 174,
    "start_time": "2025-06-30T17:50:51.784Z"
   },
   {
    "duration": 7,
    "start_time": "2025-06-30T17:50:51.960Z"
   },
   {
    "duration": 19,
    "start_time": "2025-06-30T17:50:51.969Z"
   },
   {
    "duration": 33,
    "start_time": "2025-06-30T17:50:51.990Z"
   },
   {
    "duration": 747,
    "start_time": "2025-06-30T17:50:52.024Z"
   },
   {
    "duration": 18,
    "start_time": "2025-06-30T17:50:52.773Z"
   },
   {
    "duration": 2,
    "start_time": "2025-06-30T17:50:52.793Z"
   }
  ],
  "kernelspec": {
   "display_name": "Python [conda env:base] *",
   "language": "python",
   "name": "conda-base-py"
  },
  "language_info": {
   "codemirror_mode": {
    "name": "ipython",
    "version": 3
   },
   "file_extension": ".py",
   "mimetype": "text/x-python",
   "name": "python",
   "nbconvert_exporter": "python",
   "pygments_lexer": "ipython3",
   "version": "3.12.7"
  },
  "toc": {
   "base_numbering": 1,
   "nav_menu": {},
   "number_sections": true,
   "sideBar": true,
   "skip_h1_title": true,
   "title_cell": "Table of Contents",
   "title_sidebar": "Contents",
   "toc_cell": false,
   "toc_position": {
    "height": "calc(100% - 180px)",
    "left": "10px",
    "top": "150px",
    "width": "510.391px"
   },
   "toc_section_display": true,
   "toc_window_display": true
  }
 },
 "nbformat": 4,
 "nbformat_minor": 5
}
